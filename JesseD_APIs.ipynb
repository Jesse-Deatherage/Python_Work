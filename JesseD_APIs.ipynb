{
 "cells": [
  {
   "cell_type": "markdown",
   "metadata": {
    "id": "88tCXKMAp2FX"
   },
   "source": [
    "<img src=\"http://imgur.com/1ZcRyrc.png\" style=\"float: left; margin: 20px; height: 55px\">\n",
    "\n",
    "#  APIs\n",
    "\n",
    "---\n",
    "\n",
    "<a id=\"learning-objectives\"></a>\n",
    "## Learning Objectives\n",
    "*After completing this notebook, you will be able to:*\n",
    "\n",
    "- Understand the fundamentals of web communication.\n",
    "- Obtain data from an API.\n",
    "- Use Python, API authentication and parameters to make more complex requests.\n"
   ]
  },
  {
   "cell_type": "markdown",
   "metadata": {
    "id": "fRo_k1OGYgoX"
   },
   "source": [
    "#  What Is an API?\n",
    "\n",
    "---\n",
    "\n",
    "API stands for **Applied Programming Interface**\n",
    "\n",
    "An API provides a connection point between two computers, typically on the internet, used to interact with each other. APIs are commonly used to send or receive data. They also define what data can be sent/received and through what commands/syntax.\n",
    "\n",
    "\n",
    "Let's start by importing the **requests** library, which we'll be using to make API requests"
   ]
  },
  {
   "cell_type": "code",
   "execution_count": 1,
   "metadata": {
    "id": "BBs3BLB-YgoX"
   },
   "outputs": [],
   "source": [
    "import requests"
   ]
  },
  {
   "cell_type": "markdown",
   "metadata": {
    "id": "6u41x7__YgoY"
   },
   "source": [
    "Let's make a request to the astronauts API and view the resulting JSON. The first thing we do is make a GET request. This is really simple!"
   ]
  },
  {
   "cell_type": "code",
   "execution_count": 2,
   "metadata": {
    "id": "40WNRAiaYgoY"
   },
   "outputs": [
    {
     "data": {
      "text/plain": [
       "<Response [200]>"
      ]
     },
     "execution_count": 2,
     "metadata": {},
     "output_type": "execute_result"
    }
   ],
   "source": [
    "astro_request = requests.get('http://api.open-notify.org/astros.json')\n",
    "astro_request"
   ]
  },
  {
   "cell_type": "markdown",
   "metadata": {
    "id": "hsGVCZqtYgoY"
   },
   "source": [
    "An alternative, neater way to make the request would be to define the URL as a variable instead of pasting it straight into `.get()`, like this:"
   ]
  },
  {
   "cell_type": "code",
   "execution_count": 3,
   "metadata": {
    "id": "LVVDC3RUYgoY"
   },
   "outputs": [
    {
     "data": {
      "text/plain": [
       "<Response [200]>"
      ]
     },
     "execution_count": 3,
     "metadata": {},
     "output_type": "execute_result"
    }
   ],
   "source": [
    "url = 'http://api.open-notify.org/astros.json'\n",
    "requests.get(url)"
   ]
  },
  {
   "cell_type": "markdown",
   "metadata": {
    "id": "pg5VuEgoYgoZ"
   },
   "source": [
    "The thing we get back from a GET request is a `request` object."
   ]
  },
  {
   "cell_type": "code",
   "execution_count": null,
   "metadata": {
    "id": "O4337-w1YgoZ"
   },
   "outputs": [],
   "source": []
  },
  {
   "cell_type": "markdown",
   "metadata": {
    "id": "7d_BfSlTYgoZ"
   },
   "source": [
    "This is an object that has a few different bits of information bundled up inside it, all of which have been sent back to us by the servers at `open-notify.org`, including...\n",
    "\n",
    "The status code, which tells us whether the request was successful or not. A status code of `200` means the request was a success, whereas a status code of `400` means there was an error. You might remember seeing `404: error` messages in your browser when you try to load a webpage that doesn't exist- that's also an example of a status code! \n",
    "\n",
    "We can check the status code like this:"
   ]
  },
  {
   "cell_type": "code",
   "execution_count": 4,
   "metadata": {
    "id": "_tF4JtYwYgoZ"
   },
   "outputs": [
    {
     "data": {
      "text/plain": [
       "<RequestsCookieJar[]>"
      ]
     },
     "execution_count": 4,
     "metadata": {},
     "output_type": "execute_result"
    }
   ],
   "source": [
    "astro_request.status_code\n",
    "astro_request.cookies"
   ]
  },
  {
   "cell_type": "markdown",
   "metadata": {
    "id": "LNS1vZOWYgoZ"
   },
   "source": [
    "We can also access the JSON that's returned by the API; this is also bundled up inside our `request` object."
   ]
  },
  {
   "cell_type": "code",
   "execution_count": 5,
   "metadata": {
    "id": "OsLpkbtgYgoa"
   },
   "outputs": [
    {
     "data": {
      "text/plain": [
       "<bound method Response.json of <Response [200]>>"
      ]
     },
     "execution_count": 5,
     "metadata": {},
     "output_type": "execute_result"
    }
   ],
   "source": [
    "astro_request.json"
   ]
  },
  {
   "cell_type": "markdown",
   "metadata": {
    "id": "7WM3HWGlYgoa"
   },
   "source": [
    "Let's create a variable that contains the JSON only."
   ]
  },
  {
   "cell_type": "code",
   "execution_count": 6,
   "metadata": {
    "id": "N4nR0AiIYgoa"
   },
   "outputs": [
    {
     "data": {
      "text/plain": [
       "{'message': 'success',\n",
       " 'number': 10,\n",
       " 'people': [{'craft': 'ISS', 'name': 'Sergey Prokopyev'},\n",
       "  {'craft': 'ISS', 'name': 'Dmitry Petelin'},\n",
       "  {'craft': 'ISS', 'name': 'Frank Rubio'},\n",
       "  {'craft': 'Shenzhou 15', 'name': 'Fei Junlong'},\n",
       "  {'craft': 'Shenzhou 15', 'name': 'Deng Qingming'},\n",
       "  {'craft': 'Shenzhou 15', 'name': 'Zhang Lu'},\n",
       "  {'craft': 'ISS', 'name': 'Stephen Bowen'},\n",
       "  {'craft': 'ISS', 'name': 'Warren Hoburg'},\n",
       "  {'craft': 'ISS', 'name': 'Sultan Alneyadi'},\n",
       "  {'craft': 'ISS', 'name': 'Andrey Fedyaev'}]}"
      ]
     },
     "execution_count": 6,
     "metadata": {},
     "output_type": "execute_result"
    }
   ],
   "source": [
    "astro_json = astro_request.json()\n",
    "astro_json"
   ]
  },
  {
   "cell_type": "markdown",
   "metadata": {
    "id": "0GUjMmwxYgoa"
   },
   "source": [
    "Let's check it's type- it's a dictionary!"
   ]
  },
  {
   "cell_type": "code",
   "execution_count": 7,
   "metadata": {
    "id": "X-DODQTjYgoa"
   },
   "outputs": [
    {
     "data": {
      "text/plain": [
       "dict"
      ]
     },
     "execution_count": 7,
     "metadata": {},
     "output_type": "execute_result"
    }
   ],
   "source": [
    "type(astro_json)"
   ]
  },
  {
   "cell_type": "markdown",
   "metadata": {
    "id": "oVpjgZ4oYgoa"
   },
   "source": [
    "Now we can use our dictionary and list-indexing skills to access information inside the JSON."
   ]
  },
  {
   "cell_type": "code",
   "execution_count": 8,
   "metadata": {
    "id": "k87qnRW_Ygoa"
   },
   "outputs": [
    {
     "data": {
      "text/plain": [
       "[{'craft': 'ISS', 'name': 'Sergey Prokopyev'},\n",
       " {'craft': 'ISS', 'name': 'Dmitry Petelin'},\n",
       " {'craft': 'ISS', 'name': 'Frank Rubio'},\n",
       " {'craft': 'Shenzhou 15', 'name': 'Fei Junlong'},\n",
       " {'craft': 'Shenzhou 15', 'name': 'Deng Qingming'},\n",
       " {'craft': 'Shenzhou 15', 'name': 'Zhang Lu'},\n",
       " {'craft': 'ISS', 'name': 'Stephen Bowen'},\n",
       " {'craft': 'ISS', 'name': 'Warren Hoburg'},\n",
       " {'craft': 'ISS', 'name': 'Sultan Alneyadi'},\n",
       " {'craft': 'ISS', 'name': 'Andrey Fedyaev'}]"
      ]
     },
     "execution_count": 8,
     "metadata": {},
     "output_type": "execute_result"
    }
   ],
   "source": [
    "astro_json['people']"
   ]
  },
  {
   "cell_type": "code",
   "execution_count": 9,
   "metadata": {
    "id": "qtTwuD3eYgoa"
   },
   "outputs": [
    {
     "data": {
      "text/plain": [
       "{'craft': 'ISS', 'name': 'Sergey Prokopyev'}"
      ]
     },
     "execution_count": 9,
     "metadata": {},
     "output_type": "execute_result"
    }
   ],
   "source": [
    "astro_json['people'][0]"
   ]
  },
  {
   "cell_type": "code",
   "execution_count": null,
   "metadata": {
    "id": "8Z2ansD4Ygob"
   },
   "outputs": [],
   "source": []
  },
  {
   "cell_type": "markdown",
   "metadata": {
    "id": "aj9tQ78MYgob"
   },
   "source": [
    "## <font color='green'> Exercise 1: Dad jokes\n",
    "---\n",
    "\n",
    "We will play around with a new API: one that returns dad jokes.\n",
    "    \n",
    "capi\n",
    "    \n",
    "Use the documentation to find the url that returns *a random dad joke*. Fill in the gap in the code below to make a GET request to the correct url."
   ]
  },
  {
   "cell_type": "code",
   "execution_count": 10,
   "metadata": {
    "id": "hdCQQOahYgob"
   },
   "outputs": [
    {
     "data": {
      "text/plain": [
       "{'id': 'W82EtW01wkb',\n",
       " 'joke': 'What happens when you anger a brain surgeon? They will give you a piece of your mind.',\n",
       " 'status': 200}"
      ]
     },
     "execution_count": 10,
     "metadata": {},
     "output_type": "execute_result"
    }
   ],
   "source": [
    "dad_joke_url = 'https://icanhazdadjoke.com/'\n",
    "dad_joke_request = requests.get(url=dad_joke_url,headers={'Accept': 'application/json'})\n",
    "dad_joke_request.json()"
   ]
  },
  {
   "cell_type": "markdown",
   "metadata": {
    "id": "kZ5FHHU5Ygob"
   },
   "source": [
    "Now, check the status code of the request:"
   ]
  },
  {
   "cell_type": "code",
   "execution_count": 11,
   "metadata": {
    "id": "5k-KEtbuYgoc"
   },
   "outputs": [
    {
     "data": {
      "text/plain": [
       "200"
      ]
     },
     "execution_count": 11,
     "metadata": {},
     "output_type": "execute_result"
    }
   ],
   "source": [
    "dad_joke_request.status_code"
   ]
  },
  {
   "cell_type": "markdown",
   "metadata": {
    "id": "cqT3pBeTYgoc"
   },
   "source": [
    "Next, create a variable that contains the JSON returned by the API"
   ]
  },
  {
   "cell_type": "code",
   "execution_count": 12,
   "metadata": {
    "id": "sGH4hHr9Ygoc"
   },
   "outputs": [],
   "source": [
    "dad_joke_json = dad_joke_request.json()"
   ]
  },
  {
   "cell_type": "markdown",
   "metadata": {
    "id": "k6C9AmGFYgoc"
   },
   "source": [
    "Inspect the dictionary and extract the joke itself as a string"
   ]
  },
  {
   "cell_type": "code",
   "execution_count": 13,
   "metadata": {
    "id": "WsOemWO7Ygoc"
   },
   "outputs": [
    {
     "data": {
      "text/plain": [
       "dict"
      ]
     },
     "execution_count": 13,
     "metadata": {},
     "output_type": "execute_result"
    }
   ],
   "source": [
    "type(dad_joke_json)\n"
   ]
  },
  {
   "cell_type": "code",
   "execution_count": 14,
   "metadata": {},
   "outputs": [
    {
     "data": {
      "text/plain": [
       "'What happens when you anger a brain surgeon? They will give you a piece of your mind.'"
      ]
     },
     "execution_count": 14,
     "metadata": {},
     "output_type": "execute_result"
    }
   ],
   "source": [
    "dad_joke_json['joke']"
   ]
  },
  {
   "cell_type": "code",
   "execution_count": null,
   "metadata": {},
   "outputs": [],
   "source": []
  },
  {
   "cell_type": "code",
   "execution_count": null,
   "metadata": {},
   "outputs": [],
   "source": []
  },
  {
   "cell_type": "markdown",
   "metadata": {
    "id": "PRl4csB5Ygoc"
   },
   "source": [
    "### <font color='green'>  Stretch\n",
    "\n",
    "Now write a `for` loop to call the API 10 times and store the 10 jokes in a list.\n",
    "\n",
    "_You may optionally decide to create a function to do the fetching for you_"
   ]
  },
  {
   "cell_type": "code",
   "execution_count": 15,
   "metadata": {
    "id": "zycF6dqjYgoc"
   },
   "outputs": [
    {
     "name": "stdout",
     "output_type": "stream",
     "text": [
      "A doll was recently found dead in a rice paddy. It's the only known instance of a nick nack paddy wack.\n",
      "Why do birds fly south for the winter? Because it's too far to walk.\n",
      "What is a centipedes's favorite Beatle song?  I want to hold your hand, hand, hand, hand...\n",
      "What do you call two barracuda fish?  A Pairacuda!\n",
      "What's the difference between a guitar and a fish? You can tune a guitar but you can't \"tuna\" fish!\n",
      "Why did the half blind man fall in the well? Because he couldn't see that well!\n",
      "Can I watch the TV? Dad: Yes, but don’t turn it on.\n",
      "I can't take my dog to the pond anymore because the ducks keep attacking him. That's what I get for buying a pure bread dog.\n",
      "I've been trying to come up with a dad joke about momentum . . . but I just can't seem to get it going.\n",
      "Why are graveyards so noisy? Because of all the coffin.\n"
     ]
    }
   ],
   "source": [
    "for i in range(10):\n",
    "    dad_joke_url = 'https://icanhazdadjoke.com/'\n",
    "    dad_joke_request = requests.get(url=dad_joke_url,headers={'Accept': 'application/json'})\n",
    "    print(dad_joke_request.json()['joke'])\n",
    "    "
   ]
  },
  {
   "cell_type": "code",
   "execution_count": 16,
   "metadata": {},
   "outputs": [
    {
     "data": {
      "text/plain": [
       "[\"How do locomotives know where they're going? Lots of training\",\n",
       " 'How did Darth Vader know what Luke was getting for Christmas? He felt his presents.',\n",
       " 'I went on a date last night with a girl from the zoo. It was great. She’s a keeper.',\n",
       " 'If you’re struggling to think of what to get someone for Christmas. Get them a fridge and watch their face light up when they open it.',\n",
       " 'I’ll tell you something about German sausages, they’re the wurst',\n",
       " 'Have you heard about the owl sanctuary job opening? It’s all night shifts but they’re all a hoot over there.',\n",
       " \"I've just written a song about a tortilla. Well, it is more of a rap really.\",\n",
       " 'The shovel was a ground-breaking invention.',\n",
       " 'My New Years resolution is to stop leaving things so late.',\n",
       " 'What did the mountain climber name his son? Cliff.']"
      ]
     },
     "execution_count": 16,
     "metadata": {},
     "output_type": "execute_result"
    }
   ],
   "source": [
    "#Make it into a list\n",
    "jokes= []\n",
    "for i in range(10):\n",
    "    dad_joke_url = 'https://icanhazdadjoke.com/'\n",
    "    dad_joke_request = requests.get(url=dad_joke_url,headers={'Accept': 'application/json'})\n",
    "    jokes.append(dad_joke_request.json()['joke'])\n",
    "    \n",
    "jokes"
   ]
  },
  {
   "cell_type": "code",
   "execution_count": 17,
   "metadata": {},
   "outputs": [
    {
     "data": {
      "text/plain": [
       "['I tried taking some high resolution photos of local farmland, but they all turned out a bit grainy.',\n",
       " 'To the guy who invented zero... thanks for nothing.',\n",
       " 'What do you call a pig with three eyes? Piiig',\n",
       " 'Where do bees go to the bathroom?  The BP station.',\n",
       " \"Why does Waldo only wear stripes? Because he doesn't want to be spotted.\",\n",
       " 'What do you call someone with no nose? Nobody knows.',\n",
       " '\"Dad, I\\'m hungry.\" Hello, Hungry. I\\'m Dad.',\n",
       " 'Did you hear about the campsite that got visited by Bigfoot? It got in tents.',\n",
       " '“My Dog has no nose.” “How does he smell?” “Awful”',\n",
       " 'What did the 0 say to the 8? Nice belt.']"
      ]
     },
     "execution_count": 17,
     "metadata": {},
     "output_type": "execute_result"
    }
   ],
   "source": [
    "#Make it into a function\n",
    "def call_api():\n",
    "    jokes= []\n",
    "    for i in range(10):\n",
    "        dad_joke_url = 'https://icanhazdadjoke.com/'\n",
    "        dad_joke_request = requests.get(url=dad_joke_url,headers={'Accept': 'application/json'})\n",
    "        jokes.append(dad_joke_request.json()['joke'])\n",
    "    return jokes\n",
    "\n",
    "call_api()"
   ]
  },
  {
   "cell_type": "code",
   "execution_count": null,
   "metadata": {},
   "outputs": [],
   "source": []
  },
  {
   "cell_type": "markdown",
   "metadata": {
    "id": "nJxmDaVmYgod"
   },
   "source": [
    "Use your Python skills to find the longest joke in your list (in terms of number of characters)"
   ]
  },
  {
   "cell_type": "code",
   "execution_count": 18,
   "metadata": {
    "id": "Q3Ihn6goYgod"
   },
   "outputs": [
    {
     "data": {
      "text/plain": [
       "[(\"I'd like to start a diet, but I've got too much on my plate right now.\",\n",
       "  70),\n",
       " (\"I was going to learn how to juggle, but I didn't have the balls.\", 64),\n",
       " ('Why do bananas have to put on sunscreen before they go to the beach? Because they might peel!',\n",
       "  93),\n",
       " ('I always wanted to look into why I procrastinate, but I keep putting it off. ',\n",
       "  77),\n",
       " ('What do you do when your bunny gets wet? You get your hare dryer.', 65),\n",
       " (\"Did you hear about the guy whose whole left side was cut off? He's all right now.\",\n",
       "  81),\n",
       " ('I dreamed about drowning in an ocean made out of orange soda last night. It took me a while to work out it was just a Fanta sea.',\n",
       "  128),\n",
       " (\"What's the difference between a seal and a sea lion?\\r\\nAn ion! \", 62),\n",
       " ('How many South Americans does it take to change a lightbulb? A Brazilian',\n",
       "  72),\n",
       " ('What did the grape do when he got stepped on? He let out a little wine.',\n",
       "  71)]"
      ]
     },
     "execution_count": 18,
     "metadata": {},
     "output_type": "execute_result"
    }
   ],
   "source": [
    "jokes= []\n",
    "len_of_joke = []\n",
    "for i in range(10):\n",
    "    dad_joke_url = 'https://icanhazdadjoke.com/'\n",
    "    dad_joke_request = requests.get(url=dad_joke_url,headers={'Accept': 'application/json'})\n",
    "    jokes.append(dad_joke_request.json()['joke'])\n",
    "    len_of_joke.append(len(dad_joke_request.json()['joke']))\n",
    "    \n",
    "jokes\n",
    "len_of_joke\n",
    "list(zip(jokes, len_of_joke))"
   ]
  },
  {
   "cell_type": "markdown",
   "metadata": {
    "id": "dI7i99LsYgod"
   },
   "source": [
    "#   Getting data from APIs\n",
    "---\n",
    "\n",
    "Let's look at another API that actually returns some data, in this case about the Star Wars universe.\n",
    "\n",
    "We will use the Star Wars API at https://swapi.dev.\n",
    "    \n",
    "Their \"root\" API returns all the possible API endpoints and their urls, let's start there."
   ]
  },
  {
   "cell_type": "code",
   "execution_count": 24,
   "metadata": {
    "id": "1loyZetXYgod"
   },
   "outputs": [
    {
     "data": {
      "text/plain": [
       "{'people': 'https://swapi.dev/api/people/',\n",
       " 'planets': 'https://swapi.dev/api/planets/',\n",
       " 'films': 'https://swapi.dev/api/films/',\n",
       " 'species': 'https://swapi.dev/api/species/',\n",
       " 'vehicles': 'https://swapi.dev/api/vehicles/',\n",
       " 'starships': 'https://swapi.dev/api/starships/'}"
      ]
     },
     "execution_count": 24,
     "metadata": {},
     "output_type": "execute_result"
    }
   ],
   "source": [
    "url = 'https://swapi.dev/api'\n",
    "star_wars_result = requests.get(url)\n",
    "star_wars_result.json()"
   ]
  },
  {
   "cell_type": "markdown",
   "metadata": {
    "id": "3k8O4BseYgod"
   },
   "source": [
    "Let's extract the JSON and see what possible endpoints there are"
   ]
  },
  {
   "cell_type": "code",
   "execution_count": 25,
   "metadata": {
    "id": "3zDwOMBQYgod"
   },
   "outputs": [],
   "source": [
    "star_wars_result.json().keys()\n",
    "sw_json = star_wars_result.json()"
   ]
  },
  {
   "cell_type": "markdown",
   "metadata": {
    "id": "OmwqMzkMYgod"
   },
   "source": [
    "Let's look at the one for vehicles"
   ]
  },
  {
   "cell_type": "code",
   "execution_count": 26,
   "metadata": {
    "id": "oNBfnGd7Ygod"
   },
   "outputs": [
    {
     "data": {
      "text/plain": [
       "'https://swapi.dev/api/vehicles/'"
      ]
     },
     "execution_count": 26,
     "metadata": {},
     "output_type": "execute_result"
    }
   ],
   "source": [
    "sw_json['vehicles']"
   ]
  },
  {
   "cell_type": "markdown",
   "metadata": {
    "id": "xDVPQsfFYgoe"
   },
   "source": [
    "Looks like the actual data is stored in a key called `results`"
   ]
  },
  {
   "cell_type": "code",
   "execution_count": 28,
   "metadata": {
    "id": "eUI8f1iiYgoe"
   },
   "outputs": [
    {
     "data": {
      "text/plain": [
       "{'count': 39,\n",
       " 'next': 'https://swapi.dev/api/vehicles/?page=2',\n",
       " 'previous': None,\n",
       " 'results': [{'name': 'Sand Crawler',\n",
       "   'model': 'Digger Crawler',\n",
       "   'manufacturer': 'Corellia Mining Corporation',\n",
       "   'cost_in_credits': '150000',\n",
       "   'length': '36.8 ',\n",
       "   'max_atmosphering_speed': '30',\n",
       "   'crew': '46',\n",
       "   'passengers': '30',\n",
       "   'cargo_capacity': '50000',\n",
       "   'consumables': '2 months',\n",
       "   'vehicle_class': 'wheeled',\n",
       "   'pilots': [],\n",
       "   'films': ['https://swapi.dev/api/films/1/',\n",
       "    'https://swapi.dev/api/films/5/'],\n",
       "   'created': '2014-12-10T15:36:25.724000Z',\n",
       "   'edited': '2014-12-20T21:30:21.661000Z',\n",
       "   'url': 'https://swapi.dev/api/vehicles/4/'},\n",
       "  {'name': 'T-16 skyhopper',\n",
       "   'model': 'T-16 skyhopper',\n",
       "   'manufacturer': 'Incom Corporation',\n",
       "   'cost_in_credits': '14500',\n",
       "   'length': '10.4 ',\n",
       "   'max_atmosphering_speed': '1200',\n",
       "   'crew': '1',\n",
       "   'passengers': '1',\n",
       "   'cargo_capacity': '50',\n",
       "   'consumables': '0',\n",
       "   'vehicle_class': 'repulsorcraft',\n",
       "   'pilots': [],\n",
       "   'films': ['https://swapi.dev/api/films/1/'],\n",
       "   'created': '2014-12-10T16:01:52.434000Z',\n",
       "   'edited': '2014-12-20T21:30:21.665000Z',\n",
       "   'url': 'https://swapi.dev/api/vehicles/6/'},\n",
       "  {'name': 'X-34 landspeeder',\n",
       "   'model': 'X-34 landspeeder',\n",
       "   'manufacturer': 'SoroSuub Corporation',\n",
       "   'cost_in_credits': '10550',\n",
       "   'length': '3.4 ',\n",
       "   'max_atmosphering_speed': '250',\n",
       "   'crew': '1',\n",
       "   'passengers': '1',\n",
       "   'cargo_capacity': '5',\n",
       "   'consumables': 'unknown',\n",
       "   'vehicle_class': 'repulsorcraft',\n",
       "   'pilots': [],\n",
       "   'films': ['https://swapi.dev/api/films/1/'],\n",
       "   'created': '2014-12-10T16:13:52.586000Z',\n",
       "   'edited': '2014-12-20T21:30:21.668000Z',\n",
       "   'url': 'https://swapi.dev/api/vehicles/7/'},\n",
       "  {'name': 'TIE/LN starfighter',\n",
       "   'model': 'Twin Ion Engine/Ln Starfighter',\n",
       "   'manufacturer': 'Sienar Fleet Systems',\n",
       "   'cost_in_credits': 'unknown',\n",
       "   'length': '6.4',\n",
       "   'max_atmosphering_speed': '1200',\n",
       "   'crew': '1',\n",
       "   'passengers': '0',\n",
       "   'cargo_capacity': '65',\n",
       "   'consumables': '2 days',\n",
       "   'vehicle_class': 'starfighter',\n",
       "   'pilots': [],\n",
       "   'films': ['https://swapi.dev/api/films/1/',\n",
       "    'https://swapi.dev/api/films/2/',\n",
       "    'https://swapi.dev/api/films/3/'],\n",
       "   'created': '2014-12-10T16:33:52.860000Z',\n",
       "   'edited': '2014-12-20T21:30:21.670000Z',\n",
       "   'url': 'https://swapi.dev/api/vehicles/8/'},\n",
       "  {'name': 'Snowspeeder',\n",
       "   'model': 't-47 airspeeder',\n",
       "   'manufacturer': 'Incom corporation',\n",
       "   'cost_in_credits': 'unknown',\n",
       "   'length': '4.5',\n",
       "   'max_atmosphering_speed': '650',\n",
       "   'crew': '2',\n",
       "   'passengers': '0',\n",
       "   'cargo_capacity': '10',\n",
       "   'consumables': 'none',\n",
       "   'vehicle_class': 'airspeeder',\n",
       "   'pilots': ['https://swapi.dev/api/people/1/',\n",
       "    'https://swapi.dev/api/people/18/'],\n",
       "   'films': ['https://swapi.dev/api/films/2/'],\n",
       "   'created': '2014-12-15T12:22:12Z',\n",
       "   'edited': '2014-12-20T21:30:21.672000Z',\n",
       "   'url': 'https://swapi.dev/api/vehicles/14/'},\n",
       "  {'name': 'TIE bomber',\n",
       "   'model': 'TIE/sa bomber',\n",
       "   'manufacturer': 'Sienar Fleet Systems',\n",
       "   'cost_in_credits': 'unknown',\n",
       "   'length': '7.8',\n",
       "   'max_atmosphering_speed': '850',\n",
       "   'crew': '1',\n",
       "   'passengers': '0',\n",
       "   'cargo_capacity': 'none',\n",
       "   'consumables': '2 days',\n",
       "   'vehicle_class': 'space/planetary bomber',\n",
       "   'pilots': [],\n",
       "   'films': ['https://swapi.dev/api/films/2/',\n",
       "    'https://swapi.dev/api/films/3/'],\n",
       "   'created': '2014-12-15T12:33:15.838000Z',\n",
       "   'edited': '2014-12-20T21:30:21.675000Z',\n",
       "   'url': 'https://swapi.dev/api/vehicles/16/'},\n",
       "  {'name': 'AT-AT',\n",
       "   'model': 'All Terrain Armored Transport',\n",
       "   'manufacturer': 'Kuat Drive Yards, Imperial Department of Military Research',\n",
       "   'cost_in_credits': 'unknown',\n",
       "   'length': '20',\n",
       "   'max_atmosphering_speed': '60',\n",
       "   'crew': '5',\n",
       "   'passengers': '40',\n",
       "   'cargo_capacity': '1000',\n",
       "   'consumables': 'unknown',\n",
       "   'vehicle_class': 'assault walker',\n",
       "   'pilots': [],\n",
       "   'films': ['https://swapi.dev/api/films/2/',\n",
       "    'https://swapi.dev/api/films/3/'],\n",
       "   'created': '2014-12-15T12:38:25.937000Z',\n",
       "   'edited': '2014-12-20T21:30:21.677000Z',\n",
       "   'url': 'https://swapi.dev/api/vehicles/18/'},\n",
       "  {'name': 'AT-ST',\n",
       "   'model': 'All Terrain Scout Transport',\n",
       "   'manufacturer': 'Kuat Drive Yards, Imperial Department of Military Research',\n",
       "   'cost_in_credits': 'unknown',\n",
       "   'length': '2',\n",
       "   'max_atmosphering_speed': '90',\n",
       "   'crew': '2',\n",
       "   'passengers': '0',\n",
       "   'cargo_capacity': '200',\n",
       "   'consumables': 'none',\n",
       "   'vehicle_class': 'walker',\n",
       "   'pilots': ['https://swapi.dev/api/people/13/'],\n",
       "   'films': ['https://swapi.dev/api/films/2/',\n",
       "    'https://swapi.dev/api/films/3/'],\n",
       "   'created': '2014-12-15T12:46:42.384000Z',\n",
       "   'edited': '2014-12-20T21:30:21.679000Z',\n",
       "   'url': 'https://swapi.dev/api/vehicles/19/'},\n",
       "  {'name': 'Storm IV Twin-Pod cloud car',\n",
       "   'model': 'Storm IV Twin-Pod',\n",
       "   'manufacturer': 'Bespin Motors',\n",
       "   'cost_in_credits': '75000',\n",
       "   'length': '7',\n",
       "   'max_atmosphering_speed': '1500',\n",
       "   'crew': '2',\n",
       "   'passengers': '0',\n",
       "   'cargo_capacity': '10',\n",
       "   'consumables': '1 day',\n",
       "   'vehicle_class': 'repulsorcraft',\n",
       "   'pilots': [],\n",
       "   'films': ['https://swapi.dev/api/films/2/'],\n",
       "   'created': '2014-12-15T12:58:50.530000Z',\n",
       "   'edited': '2014-12-20T21:30:21.681000Z',\n",
       "   'url': 'https://swapi.dev/api/vehicles/20/'},\n",
       "  {'name': 'Sail barge',\n",
       "   'model': 'Modified Luxury Sail Barge',\n",
       "   'manufacturer': 'Ubrikkian Industries Custom Vehicle Division',\n",
       "   'cost_in_credits': '285000',\n",
       "   'length': '30',\n",
       "   'max_atmosphering_speed': '100',\n",
       "   'crew': '26',\n",
       "   'passengers': '500',\n",
       "   'cargo_capacity': '2000000',\n",
       "   'consumables': 'Live food tanks',\n",
       "   'vehicle_class': 'sail barge',\n",
       "   'pilots': [],\n",
       "   'films': ['https://swapi.dev/api/films/3/'],\n",
       "   'created': '2014-12-18T10:44:14.217000Z',\n",
       "   'edited': '2014-12-20T21:30:21.684000Z',\n",
       "   'url': 'https://swapi.dev/api/vehicles/24/'}]}"
      ]
     },
     "execution_count": 28,
     "metadata": {},
     "output_type": "execute_result"
    }
   ],
   "source": [
    "vehicles_json = requests.get(\"https://swapi.dev/api/vehicles/\").json()\n",
    "vehicles_json"
   ]
  },
  {
   "cell_type": "markdown",
   "metadata": {
    "id": "RHMlHqeuYgoe"
   },
   "source": [
    "Which is a Python list"
   ]
  },
  {
   "cell_type": "code",
   "execution_count": 32,
   "metadata": {
    "id": "Ln8ZfnYRYgoe"
   },
   "outputs": [
    {
     "name": "stdout",
     "output_type": "stream",
     "text": [
      "<class 'list'>\n"
     ]
    },
    {
     "data": {
      "text/plain": [
       "[{'name': 'Sand Crawler',\n",
       "  'model': 'Digger Crawler',\n",
       "  'manufacturer': 'Corellia Mining Corporation',\n",
       "  'cost_in_credits': '150000',\n",
       "  'length': '36.8 ',\n",
       "  'max_atmosphering_speed': '30',\n",
       "  'crew': '46',\n",
       "  'passengers': '30',\n",
       "  'cargo_capacity': '50000',\n",
       "  'consumables': '2 months',\n",
       "  'vehicle_class': 'wheeled',\n",
       "  'pilots': [],\n",
       "  'films': ['https://swapi.dev/api/films/1/',\n",
       "   'https://swapi.dev/api/films/5/'],\n",
       "  'created': '2014-12-10T15:36:25.724000Z',\n",
       "  'edited': '2014-12-20T21:30:21.661000Z',\n",
       "  'url': 'https://swapi.dev/api/vehicles/4/'},\n",
       " {'name': 'T-16 skyhopper',\n",
       "  'model': 'T-16 skyhopper',\n",
       "  'manufacturer': 'Incom Corporation',\n",
       "  'cost_in_credits': '14500',\n",
       "  'length': '10.4 ',\n",
       "  'max_atmosphering_speed': '1200',\n",
       "  'crew': '1',\n",
       "  'passengers': '1',\n",
       "  'cargo_capacity': '50',\n",
       "  'consumables': '0',\n",
       "  'vehicle_class': 'repulsorcraft',\n",
       "  'pilots': [],\n",
       "  'films': ['https://swapi.dev/api/films/1/'],\n",
       "  'created': '2014-12-10T16:01:52.434000Z',\n",
       "  'edited': '2014-12-20T21:30:21.665000Z',\n",
       "  'url': 'https://swapi.dev/api/vehicles/6/'},\n",
       " {'name': 'X-34 landspeeder',\n",
       "  'model': 'X-34 landspeeder',\n",
       "  'manufacturer': 'SoroSuub Corporation',\n",
       "  'cost_in_credits': '10550',\n",
       "  'length': '3.4 ',\n",
       "  'max_atmosphering_speed': '250',\n",
       "  'crew': '1',\n",
       "  'passengers': '1',\n",
       "  'cargo_capacity': '5',\n",
       "  'consumables': 'unknown',\n",
       "  'vehicle_class': 'repulsorcraft',\n",
       "  'pilots': [],\n",
       "  'films': ['https://swapi.dev/api/films/1/'],\n",
       "  'created': '2014-12-10T16:13:52.586000Z',\n",
       "  'edited': '2014-12-20T21:30:21.668000Z',\n",
       "  'url': 'https://swapi.dev/api/vehicles/7/'},\n",
       " {'name': 'TIE/LN starfighter',\n",
       "  'model': 'Twin Ion Engine/Ln Starfighter',\n",
       "  'manufacturer': 'Sienar Fleet Systems',\n",
       "  'cost_in_credits': 'unknown',\n",
       "  'length': '6.4',\n",
       "  'max_atmosphering_speed': '1200',\n",
       "  'crew': '1',\n",
       "  'passengers': '0',\n",
       "  'cargo_capacity': '65',\n",
       "  'consumables': '2 days',\n",
       "  'vehicle_class': 'starfighter',\n",
       "  'pilots': [],\n",
       "  'films': ['https://swapi.dev/api/films/1/',\n",
       "   'https://swapi.dev/api/films/2/',\n",
       "   'https://swapi.dev/api/films/3/'],\n",
       "  'created': '2014-12-10T16:33:52.860000Z',\n",
       "  'edited': '2014-12-20T21:30:21.670000Z',\n",
       "  'url': 'https://swapi.dev/api/vehicles/8/'},\n",
       " {'name': 'Snowspeeder',\n",
       "  'model': 't-47 airspeeder',\n",
       "  'manufacturer': 'Incom corporation',\n",
       "  'cost_in_credits': 'unknown',\n",
       "  'length': '4.5',\n",
       "  'max_atmosphering_speed': '650',\n",
       "  'crew': '2',\n",
       "  'passengers': '0',\n",
       "  'cargo_capacity': '10',\n",
       "  'consumables': 'none',\n",
       "  'vehicle_class': 'airspeeder',\n",
       "  'pilots': ['https://swapi.dev/api/people/1/',\n",
       "   'https://swapi.dev/api/people/18/'],\n",
       "  'films': ['https://swapi.dev/api/films/2/'],\n",
       "  'created': '2014-12-15T12:22:12Z',\n",
       "  'edited': '2014-12-20T21:30:21.672000Z',\n",
       "  'url': 'https://swapi.dev/api/vehicles/14/'},\n",
       " {'name': 'TIE bomber',\n",
       "  'model': 'TIE/sa bomber',\n",
       "  'manufacturer': 'Sienar Fleet Systems',\n",
       "  'cost_in_credits': 'unknown',\n",
       "  'length': '7.8',\n",
       "  'max_atmosphering_speed': '850',\n",
       "  'crew': '1',\n",
       "  'passengers': '0',\n",
       "  'cargo_capacity': 'none',\n",
       "  'consumables': '2 days',\n",
       "  'vehicle_class': 'space/planetary bomber',\n",
       "  'pilots': [],\n",
       "  'films': ['https://swapi.dev/api/films/2/',\n",
       "   'https://swapi.dev/api/films/3/'],\n",
       "  'created': '2014-12-15T12:33:15.838000Z',\n",
       "  'edited': '2014-12-20T21:30:21.675000Z',\n",
       "  'url': 'https://swapi.dev/api/vehicles/16/'},\n",
       " {'name': 'AT-AT',\n",
       "  'model': 'All Terrain Armored Transport',\n",
       "  'manufacturer': 'Kuat Drive Yards, Imperial Department of Military Research',\n",
       "  'cost_in_credits': 'unknown',\n",
       "  'length': '20',\n",
       "  'max_atmosphering_speed': '60',\n",
       "  'crew': '5',\n",
       "  'passengers': '40',\n",
       "  'cargo_capacity': '1000',\n",
       "  'consumables': 'unknown',\n",
       "  'vehicle_class': 'assault walker',\n",
       "  'pilots': [],\n",
       "  'films': ['https://swapi.dev/api/films/2/',\n",
       "   'https://swapi.dev/api/films/3/'],\n",
       "  'created': '2014-12-15T12:38:25.937000Z',\n",
       "  'edited': '2014-12-20T21:30:21.677000Z',\n",
       "  'url': 'https://swapi.dev/api/vehicles/18/'},\n",
       " {'name': 'AT-ST',\n",
       "  'model': 'All Terrain Scout Transport',\n",
       "  'manufacturer': 'Kuat Drive Yards, Imperial Department of Military Research',\n",
       "  'cost_in_credits': 'unknown',\n",
       "  'length': '2',\n",
       "  'max_atmosphering_speed': '90',\n",
       "  'crew': '2',\n",
       "  'passengers': '0',\n",
       "  'cargo_capacity': '200',\n",
       "  'consumables': 'none',\n",
       "  'vehicle_class': 'walker',\n",
       "  'pilots': ['https://swapi.dev/api/people/13/'],\n",
       "  'films': ['https://swapi.dev/api/films/2/',\n",
       "   'https://swapi.dev/api/films/3/'],\n",
       "  'created': '2014-12-15T12:46:42.384000Z',\n",
       "  'edited': '2014-12-20T21:30:21.679000Z',\n",
       "  'url': 'https://swapi.dev/api/vehicles/19/'},\n",
       " {'name': 'Storm IV Twin-Pod cloud car',\n",
       "  'model': 'Storm IV Twin-Pod',\n",
       "  'manufacturer': 'Bespin Motors',\n",
       "  'cost_in_credits': '75000',\n",
       "  'length': '7',\n",
       "  'max_atmosphering_speed': '1500',\n",
       "  'crew': '2',\n",
       "  'passengers': '0',\n",
       "  'cargo_capacity': '10',\n",
       "  'consumables': '1 day',\n",
       "  'vehicle_class': 'repulsorcraft',\n",
       "  'pilots': [],\n",
       "  'films': ['https://swapi.dev/api/films/2/'],\n",
       "  'created': '2014-12-15T12:58:50.530000Z',\n",
       "  'edited': '2014-12-20T21:30:21.681000Z',\n",
       "  'url': 'https://swapi.dev/api/vehicles/20/'},\n",
       " {'name': 'Sail barge',\n",
       "  'model': 'Modified Luxury Sail Barge',\n",
       "  'manufacturer': 'Ubrikkian Industries Custom Vehicle Division',\n",
       "  'cost_in_credits': '285000',\n",
       "  'length': '30',\n",
       "  'max_atmosphering_speed': '100',\n",
       "  'crew': '26',\n",
       "  'passengers': '500',\n",
       "  'cargo_capacity': '2000000',\n",
       "  'consumables': 'Live food tanks',\n",
       "  'vehicle_class': 'sail barge',\n",
       "  'pilots': [],\n",
       "  'films': ['https://swapi.dev/api/films/3/'],\n",
       "  'created': '2014-12-18T10:44:14.217000Z',\n",
       "  'edited': '2014-12-20T21:30:21.684000Z',\n",
       "  'url': 'https://swapi.dev/api/vehicles/24/'}]"
      ]
     },
     "execution_count": 32,
     "metadata": {},
     "output_type": "execute_result"
    }
   ],
   "source": [
    "vehicles_json = requests.get(\"https://swapi.dev/api/vehicles/\").json()\n",
    "print(type(vehicles_json['results']))\n",
    "vehicles_json['results']"
   ]
  },
  {
   "cell_type": "markdown",
   "metadata": {
    "id": "hjZ-Adp_Ygoe"
   },
   "source": [
    "Working with JSON and dictionaries is great because it's very standardised, but it's not a very pretty data format to work with. \n",
    "\n",
    "Ideally we want a way of working with this data in Python using `pandas`.\n",
    "\n",
    "Let's take a look at how easy it is to convert JSON/dictionaries into a ```DataFrame```."
   ]
  },
  {
   "cell_type": "code",
   "execution_count": 30,
   "metadata": {},
   "outputs": [],
   "source": [
    "import pandas as pd"
   ]
  },
  {
   "cell_type": "code",
   "execution_count": 36,
   "metadata": {
    "id": "63IN2T7KYgoe"
   },
   "outputs": [
    {
     "data": {
      "text/html": [
       "<div>\n",
       "<style scoped>\n",
       "    .dataframe tbody tr th:only-of-type {\n",
       "        vertical-align: middle;\n",
       "    }\n",
       "\n",
       "    .dataframe tbody tr th {\n",
       "        vertical-align: top;\n",
       "    }\n",
       "\n",
       "    .dataframe thead th {\n",
       "        text-align: right;\n",
       "    }\n",
       "</style>\n",
       "<table border=\"1\" class=\"dataframe\">\n",
       "  <thead>\n",
       "    <tr style=\"text-align: right;\">\n",
       "      <th></th>\n",
       "      <th>name</th>\n",
       "      <th>model</th>\n",
       "      <th>manufacturer</th>\n",
       "      <th>cost_in_credits</th>\n",
       "      <th>length</th>\n",
       "      <th>max_atmosphering_speed</th>\n",
       "      <th>crew</th>\n",
       "      <th>passengers</th>\n",
       "      <th>cargo_capacity</th>\n",
       "      <th>consumables</th>\n",
       "      <th>vehicle_class</th>\n",
       "      <th>pilots</th>\n",
       "      <th>films</th>\n",
       "      <th>created</th>\n",
       "      <th>edited</th>\n",
       "      <th>url</th>\n",
       "    </tr>\n",
       "  </thead>\n",
       "  <tbody>\n",
       "    <tr>\n",
       "      <th>0</th>\n",
       "      <td>Sand Crawler</td>\n",
       "      <td>Digger Crawler</td>\n",
       "      <td>Corellia Mining Corporation</td>\n",
       "      <td>150000</td>\n",
       "      <td>36.8</td>\n",
       "      <td>30</td>\n",
       "      <td>46</td>\n",
       "      <td>30</td>\n",
       "      <td>50000</td>\n",
       "      <td>2 months</td>\n",
       "      <td>wheeled</td>\n",
       "      <td>[]</td>\n",
       "      <td>[https://swapi.dev/api/films/1/, https://swapi...</td>\n",
       "      <td>2014-12-10T15:36:25.724000Z</td>\n",
       "      <td>2014-12-20T21:30:21.661000Z</td>\n",
       "      <td>https://swapi.dev/api/vehicles/4/</td>\n",
       "    </tr>\n",
       "    <tr>\n",
       "      <th>1</th>\n",
       "      <td>T-16 skyhopper</td>\n",
       "      <td>T-16 skyhopper</td>\n",
       "      <td>Incom Corporation</td>\n",
       "      <td>14500</td>\n",
       "      <td>10.4</td>\n",
       "      <td>1200</td>\n",
       "      <td>1</td>\n",
       "      <td>1</td>\n",
       "      <td>50</td>\n",
       "      <td>0</td>\n",
       "      <td>repulsorcraft</td>\n",
       "      <td>[]</td>\n",
       "      <td>[https://swapi.dev/api/films/1/]</td>\n",
       "      <td>2014-12-10T16:01:52.434000Z</td>\n",
       "      <td>2014-12-20T21:30:21.665000Z</td>\n",
       "      <td>https://swapi.dev/api/vehicles/6/</td>\n",
       "    </tr>\n",
       "    <tr>\n",
       "      <th>2</th>\n",
       "      <td>X-34 landspeeder</td>\n",
       "      <td>X-34 landspeeder</td>\n",
       "      <td>SoroSuub Corporation</td>\n",
       "      <td>10550</td>\n",
       "      <td>3.4</td>\n",
       "      <td>250</td>\n",
       "      <td>1</td>\n",
       "      <td>1</td>\n",
       "      <td>5</td>\n",
       "      <td>unknown</td>\n",
       "      <td>repulsorcraft</td>\n",
       "      <td>[]</td>\n",
       "      <td>[https://swapi.dev/api/films/1/]</td>\n",
       "      <td>2014-12-10T16:13:52.586000Z</td>\n",
       "      <td>2014-12-20T21:30:21.668000Z</td>\n",
       "      <td>https://swapi.dev/api/vehicles/7/</td>\n",
       "    </tr>\n",
       "    <tr>\n",
       "      <th>3</th>\n",
       "      <td>TIE/LN starfighter</td>\n",
       "      <td>Twin Ion Engine/Ln Starfighter</td>\n",
       "      <td>Sienar Fleet Systems</td>\n",
       "      <td>unknown</td>\n",
       "      <td>6.4</td>\n",
       "      <td>1200</td>\n",
       "      <td>1</td>\n",
       "      <td>0</td>\n",
       "      <td>65</td>\n",
       "      <td>2 days</td>\n",
       "      <td>starfighter</td>\n",
       "      <td>[]</td>\n",
       "      <td>[https://swapi.dev/api/films/1/, https://swapi...</td>\n",
       "      <td>2014-12-10T16:33:52.860000Z</td>\n",
       "      <td>2014-12-20T21:30:21.670000Z</td>\n",
       "      <td>https://swapi.dev/api/vehicles/8/</td>\n",
       "    </tr>\n",
       "    <tr>\n",
       "      <th>4</th>\n",
       "      <td>Snowspeeder</td>\n",
       "      <td>t-47 airspeeder</td>\n",
       "      <td>Incom corporation</td>\n",
       "      <td>unknown</td>\n",
       "      <td>4.5</td>\n",
       "      <td>650</td>\n",
       "      <td>2</td>\n",
       "      <td>0</td>\n",
       "      <td>10</td>\n",
       "      <td>none</td>\n",
       "      <td>airspeeder</td>\n",
       "      <td>[https://swapi.dev/api/people/1/, https://swap...</td>\n",
       "      <td>[https://swapi.dev/api/films/2/]</td>\n",
       "      <td>2014-12-15T12:22:12Z</td>\n",
       "      <td>2014-12-20T21:30:21.672000Z</td>\n",
       "      <td>https://swapi.dev/api/vehicles/14/</td>\n",
       "    </tr>\n",
       "  </tbody>\n",
       "</table>\n",
       "</div>"
      ],
      "text/plain": [
       "                 name                           model  \\\n",
       "0        Sand Crawler                  Digger Crawler   \n",
       "1      T-16 skyhopper                  T-16 skyhopper   \n",
       "2    X-34 landspeeder                X-34 landspeeder   \n",
       "3  TIE/LN starfighter  Twin Ion Engine/Ln Starfighter   \n",
       "4         Snowspeeder                 t-47 airspeeder   \n",
       "\n",
       "                  manufacturer cost_in_credits length max_atmosphering_speed  \\\n",
       "0  Corellia Mining Corporation          150000  36.8                      30   \n",
       "1            Incom Corporation           14500  10.4                    1200   \n",
       "2         SoroSuub Corporation           10550   3.4                     250   \n",
       "3         Sienar Fleet Systems         unknown    6.4                   1200   \n",
       "4            Incom corporation         unknown    4.5                    650   \n",
       "\n",
       "  crew passengers cargo_capacity consumables  vehicle_class  \\\n",
       "0   46         30          50000    2 months        wheeled   \n",
       "1    1          1             50           0  repulsorcraft   \n",
       "2    1          1              5     unknown  repulsorcraft   \n",
       "3    1          0             65      2 days    starfighter   \n",
       "4    2          0             10        none     airspeeder   \n",
       "\n",
       "                                              pilots  \\\n",
       "0                                                 []   \n",
       "1                                                 []   \n",
       "2                                                 []   \n",
       "3                                                 []   \n",
       "4  [https://swapi.dev/api/people/1/, https://swap...   \n",
       "\n",
       "                                               films  \\\n",
       "0  [https://swapi.dev/api/films/1/, https://swapi...   \n",
       "1                   [https://swapi.dev/api/films/1/]   \n",
       "2                   [https://swapi.dev/api/films/1/]   \n",
       "3  [https://swapi.dev/api/films/1/, https://swapi...   \n",
       "4                   [https://swapi.dev/api/films/2/]   \n",
       "\n",
       "                       created                       edited  \\\n",
       "0  2014-12-10T15:36:25.724000Z  2014-12-20T21:30:21.661000Z   \n",
       "1  2014-12-10T16:01:52.434000Z  2014-12-20T21:30:21.665000Z   \n",
       "2  2014-12-10T16:13:52.586000Z  2014-12-20T21:30:21.668000Z   \n",
       "3  2014-12-10T16:33:52.860000Z  2014-12-20T21:30:21.670000Z   \n",
       "4         2014-12-15T12:22:12Z  2014-12-20T21:30:21.672000Z   \n",
       "\n",
       "                                  url  \n",
       "0   https://swapi.dev/api/vehicles/4/  \n",
       "1   https://swapi.dev/api/vehicles/6/  \n",
       "2   https://swapi.dev/api/vehicles/7/  \n",
       "3   https://swapi.dev/api/vehicles/8/  \n",
       "4  https://swapi.dev/api/vehicles/14/  "
      ]
     },
     "execution_count": 36,
     "metadata": {},
     "output_type": "execute_result"
    }
   ],
   "source": [
    "pd.DataFrame({'col1': [1, 2], 'col2': [3, 4]})\n",
    "vehicles = pd.DataFrame(vehicles_json['results'])\n",
    "vehicles.head()"
   ]
  },
  {
   "cell_type": "markdown",
   "metadata": {
    "id": "a1obSQvcYgof"
   },
   "source": [
    "Because `vehicles_json[\"results\"]` is a list of dictionaries (that correspond to individual entries in a table) we can use the list to initialise a DataFrame, and the right column names will be picked up. We can then analyse this data like any other!\n",
    "\n",
    "Just beware that the only problem is the data will be all strings by default!"
   ]
  },
  {
   "cell_type": "markdown",
   "metadata": {
    "id": "76pJXvw1Ygof"
   },
   "source": [
    "#  API parameters\n",
    "---\n",
    "    \n",
    "To allow more targeted data access, most APIs have additional *parameters* you can use to filter the results accordingly.\n",
    "    \n",
    "According to the API documentation _\"All resources support a search parameter that filters the set of resources returned.\"_ and the [vehicles API documentation](https://swapi.dev/documentation#vehicles) tells us we can search on the `name` field (i.e. search for a vehicle by name).\n",
    "    \n",
    "In most cases it is as simple as appending the parameters to the end of the url:"
   ]
  },
  {
   "cell_type": "code",
   "execution_count": 37,
   "metadata": {
    "id": "es991xCrYgof"
   },
   "outputs": [
    {
     "data": {
      "text/plain": [
       "[{'name': 'Sand Crawler',\n",
       "  'model': 'Digger Crawler',\n",
       "  'manufacturer': 'Corellia Mining Corporation',\n",
       "  'cost_in_credits': '150000',\n",
       "  'length': '36.8 ',\n",
       "  'max_atmosphering_speed': '30',\n",
       "  'crew': '46',\n",
       "  'passengers': '30',\n",
       "  'cargo_capacity': '50000',\n",
       "  'consumables': '2 months',\n",
       "  'vehicle_class': 'wheeled',\n",
       "  'pilots': [],\n",
       "  'films': ['https://swapi.dev/api/films/1/',\n",
       "   'https://swapi.dev/api/films/5/'],\n",
       "  'created': '2014-12-10T15:36:25.724000Z',\n",
       "  'edited': '2014-12-20T21:30:21.661000Z',\n",
       "  'url': 'https://swapi.dev/api/vehicles/4/'}]"
      ]
     },
     "execution_count": 37,
     "metadata": {},
     "output_type": "execute_result"
    }
   ],
   "source": [
    "url = 'https://swapi.dev/api/vehicles?search=Sand'\n",
    "requests.get(url).json()['results']"
   ]
  },
  {
   "cell_type": "markdown",
   "metadata": {
    "id": "BjQG8dAIYgof"
   },
   "source": [
    "The `?` separates the url from the parameters, which are specified in a `key=value` format (separated by an `&` if we use multiple parameters)"
   ]
  },
  {
   "cell_type": "markdown",
   "metadata": {
    "id": "CN5xwoB0Ygof"
   },
   "source": [
    "## <font color='green'> Exercise 2: Star Wars\n",
    "---\n",
    "\n",
    "Now let's use our knowledge of APIs to explore some data about the different species within the Star Wars universe.\n",
    "\n",
    "Here is the specific documentation: [Species API](https://swapi.dev/documentation#species)\n",
    "    \n",
    "First identify the correct url for the `species` API and return some results:"
   ]
  },
  {
   "cell_type": "code",
   "execution_count": 45,
   "metadata": {
    "id": "ZVZgkvvQYgog"
   },
   "outputs": [],
   "source": [
    "species_url = \"https://swapi.dev/api/species/\"\n",
    "species_result = requests.get(species_url)\n",
    "species_result.raise_for_status()"
   ]
  },
  {
   "cell_type": "markdown",
   "metadata": {
    "id": "mGVAqJa4Ygog"
   },
   "source": [
    "Create a variable that contains the JSON only"
   ]
  },
  {
   "cell_type": "code",
   "execution_count": 42,
   "metadata": {
    "id": "idNTH2jvYgog"
   },
   "outputs": [
    {
     "data": {
      "text/plain": [
       "{'count': 37,\n",
       " 'next': 'https://swapi.dev/api/species/?page=2',\n",
       " 'previous': None,\n",
       " 'results': [{'name': 'Human',\n",
       "   'classification': 'mammal',\n",
       "   'designation': 'sentient',\n",
       "   'average_height': '180',\n",
       "   'skin_colors': 'caucasian, black, asian, hispanic',\n",
       "   'hair_colors': 'blonde, brown, black, red',\n",
       "   'eye_colors': 'brown, blue, green, hazel, grey, amber',\n",
       "   'average_lifespan': '120',\n",
       "   'homeworld': 'https://swapi.dev/api/planets/9/',\n",
       "   'language': 'Galactic Basic',\n",
       "   'people': ['https://swapi.dev/api/people/66/',\n",
       "    'https://swapi.dev/api/people/67/',\n",
       "    'https://swapi.dev/api/people/68/',\n",
       "    'https://swapi.dev/api/people/74/'],\n",
       "   'films': ['https://swapi.dev/api/films/1/',\n",
       "    'https://swapi.dev/api/films/2/',\n",
       "    'https://swapi.dev/api/films/3/',\n",
       "    'https://swapi.dev/api/films/4/',\n",
       "    'https://swapi.dev/api/films/5/',\n",
       "    'https://swapi.dev/api/films/6/'],\n",
       "   'created': '2014-12-10T13:52:11.567000Z',\n",
       "   'edited': '2014-12-20T21:36:42.136000Z',\n",
       "   'url': 'https://swapi.dev/api/species/1/'},\n",
       "  {'name': 'Droid',\n",
       "   'classification': 'artificial',\n",
       "   'designation': 'sentient',\n",
       "   'average_height': 'n/a',\n",
       "   'skin_colors': 'n/a',\n",
       "   'hair_colors': 'n/a',\n",
       "   'eye_colors': 'n/a',\n",
       "   'average_lifespan': 'indefinite',\n",
       "   'homeworld': None,\n",
       "   'language': 'n/a',\n",
       "   'people': ['https://swapi.dev/api/people/2/',\n",
       "    'https://swapi.dev/api/people/3/',\n",
       "    'https://swapi.dev/api/people/8/',\n",
       "    'https://swapi.dev/api/people/23/'],\n",
       "   'films': ['https://swapi.dev/api/films/1/',\n",
       "    'https://swapi.dev/api/films/2/',\n",
       "    'https://swapi.dev/api/films/3/',\n",
       "    'https://swapi.dev/api/films/4/',\n",
       "    'https://swapi.dev/api/films/5/',\n",
       "    'https://swapi.dev/api/films/6/'],\n",
       "   'created': '2014-12-10T15:16:16.259000Z',\n",
       "   'edited': '2014-12-20T21:36:42.139000Z',\n",
       "   'url': 'https://swapi.dev/api/species/2/'},\n",
       "  {'name': 'Wookie',\n",
       "   'classification': 'mammal',\n",
       "   'designation': 'sentient',\n",
       "   'average_height': '210',\n",
       "   'skin_colors': 'gray',\n",
       "   'hair_colors': 'black, brown',\n",
       "   'eye_colors': 'blue, green, yellow, brown, golden, red',\n",
       "   'average_lifespan': '400',\n",
       "   'homeworld': 'https://swapi.dev/api/planets/14/',\n",
       "   'language': 'Shyriiwook',\n",
       "   'people': ['https://swapi.dev/api/people/13/',\n",
       "    'https://swapi.dev/api/people/80/'],\n",
       "   'films': ['https://swapi.dev/api/films/1/',\n",
       "    'https://swapi.dev/api/films/2/',\n",
       "    'https://swapi.dev/api/films/3/',\n",
       "    'https://swapi.dev/api/films/6/'],\n",
       "   'created': '2014-12-10T16:44:31.486000Z',\n",
       "   'edited': '2014-12-20T21:36:42.142000Z',\n",
       "   'url': 'https://swapi.dev/api/species/3/'},\n",
       "  {'name': 'Rodian',\n",
       "   'classification': 'sentient',\n",
       "   'designation': 'reptilian',\n",
       "   'average_height': '170',\n",
       "   'skin_colors': 'green, blue',\n",
       "   'hair_colors': 'n/a',\n",
       "   'eye_colors': 'black',\n",
       "   'average_lifespan': 'unknown',\n",
       "   'homeworld': 'https://swapi.dev/api/planets/23/',\n",
       "   'language': 'Galatic Basic',\n",
       "   'people': ['https://swapi.dev/api/people/15/'],\n",
       "   'films': ['https://swapi.dev/api/films/1/'],\n",
       "   'created': '2014-12-10T17:05:26.471000Z',\n",
       "   'edited': '2014-12-20T21:36:42.144000Z',\n",
       "   'url': 'https://swapi.dev/api/species/4/'},\n",
       "  {'name': 'Hutt',\n",
       "   'classification': 'gastropod',\n",
       "   'designation': 'sentient',\n",
       "   'average_height': '300',\n",
       "   'skin_colors': 'green, brown, tan',\n",
       "   'hair_colors': 'n/a',\n",
       "   'eye_colors': 'yellow, red',\n",
       "   'average_lifespan': '1000',\n",
       "   'homeworld': 'https://swapi.dev/api/planets/24/',\n",
       "   'language': 'Huttese',\n",
       "   'people': ['https://swapi.dev/api/people/16/'],\n",
       "   'films': ['https://swapi.dev/api/films/1/',\n",
       "    'https://swapi.dev/api/films/3/'],\n",
       "   'created': '2014-12-10T17:12:50.410000Z',\n",
       "   'edited': '2014-12-20T21:36:42.146000Z',\n",
       "   'url': 'https://swapi.dev/api/species/5/'},\n",
       "  {'name': \"Yoda's species\",\n",
       "   'classification': 'mammal',\n",
       "   'designation': 'sentient',\n",
       "   'average_height': '66',\n",
       "   'skin_colors': 'green, yellow',\n",
       "   'hair_colors': 'brown, white',\n",
       "   'eye_colors': 'brown, green, yellow',\n",
       "   'average_lifespan': '900',\n",
       "   'homeworld': 'https://swapi.dev/api/planets/28/',\n",
       "   'language': 'Galactic basic',\n",
       "   'people': ['https://swapi.dev/api/people/20/'],\n",
       "   'films': ['https://swapi.dev/api/films/2/',\n",
       "    'https://swapi.dev/api/films/3/',\n",
       "    'https://swapi.dev/api/films/4/',\n",
       "    'https://swapi.dev/api/films/5/',\n",
       "    'https://swapi.dev/api/films/6/'],\n",
       "   'created': '2014-12-15T12:27:22.877000Z',\n",
       "   'edited': '2014-12-20T21:36:42.148000Z',\n",
       "   'url': 'https://swapi.dev/api/species/6/'},\n",
       "  {'name': 'Trandoshan',\n",
       "   'classification': 'reptile',\n",
       "   'designation': 'sentient',\n",
       "   'average_height': '200',\n",
       "   'skin_colors': 'brown, green',\n",
       "   'hair_colors': 'none',\n",
       "   'eye_colors': 'yellow, orange',\n",
       "   'average_lifespan': 'unknown',\n",
       "   'homeworld': 'https://swapi.dev/api/planets/29/',\n",
       "   'language': 'Dosh',\n",
       "   'people': ['https://swapi.dev/api/people/24/'],\n",
       "   'films': ['https://swapi.dev/api/films/2/'],\n",
       "   'created': '2014-12-15T13:07:47.704000Z',\n",
       "   'edited': '2014-12-20T21:36:42.151000Z',\n",
       "   'url': 'https://swapi.dev/api/species/7/'},\n",
       "  {'name': 'Mon Calamari',\n",
       "   'classification': 'amphibian',\n",
       "   'designation': 'sentient',\n",
       "   'average_height': '160',\n",
       "   'skin_colors': 'red, blue, brown, magenta',\n",
       "   'hair_colors': 'none',\n",
       "   'eye_colors': 'yellow',\n",
       "   'average_lifespan': 'unknown',\n",
       "   'homeworld': 'https://swapi.dev/api/planets/31/',\n",
       "   'language': 'Mon Calamarian',\n",
       "   'people': ['https://swapi.dev/api/people/27/'],\n",
       "   'films': ['https://swapi.dev/api/films/3/'],\n",
       "   'created': '2014-12-18T11:09:52.263000Z',\n",
       "   'edited': '2014-12-20T21:36:42.153000Z',\n",
       "   'url': 'https://swapi.dev/api/species/8/'},\n",
       "  {'name': 'Ewok',\n",
       "   'classification': 'mammal',\n",
       "   'designation': 'sentient',\n",
       "   'average_height': '100',\n",
       "   'skin_colors': 'brown',\n",
       "   'hair_colors': 'white, brown, black',\n",
       "   'eye_colors': 'orange, brown',\n",
       "   'average_lifespan': 'unknown',\n",
       "   'homeworld': 'https://swapi.dev/api/planets/7/',\n",
       "   'language': 'Ewokese',\n",
       "   'people': ['https://swapi.dev/api/people/30/'],\n",
       "   'films': ['https://swapi.dev/api/films/3/'],\n",
       "   'created': '2014-12-18T11:22:00.285000Z',\n",
       "   'edited': '2014-12-20T21:36:42.155000Z',\n",
       "   'url': 'https://swapi.dev/api/species/9/'},\n",
       "  {'name': 'Sullustan',\n",
       "   'classification': 'mammal',\n",
       "   'designation': 'sentient',\n",
       "   'average_height': '180',\n",
       "   'skin_colors': 'pale',\n",
       "   'hair_colors': 'none',\n",
       "   'eye_colors': 'black',\n",
       "   'average_lifespan': 'unknown',\n",
       "   'homeworld': 'https://swapi.dev/api/planets/33/',\n",
       "   'language': 'Sullutese',\n",
       "   'people': ['https://swapi.dev/api/people/31/'],\n",
       "   'films': ['https://swapi.dev/api/films/3/'],\n",
       "   'created': '2014-12-18T11:26:20.103000Z',\n",
       "   'edited': '2014-12-20T21:36:42.157000Z',\n",
       "   'url': 'https://swapi.dev/api/species/10/'}]}"
      ]
     },
     "execution_count": 42,
     "metadata": {},
     "output_type": "execute_result"
    }
   ],
   "source": [
    "species_json = species_result.json()\n",
    "species_json"
   ]
  },
  {
   "cell_type": "markdown",
   "metadata": {
    "id": "NinPjM3AYgog"
   },
   "source": [
    "_Optional: put the results in a pandas DataFrame to see it as a table of data_"
   ]
  },
  {
   "cell_type": "code",
   "execution_count": 46,
   "metadata": {
    "id": "exu3WpSgYgog"
   },
   "outputs": [
    {
     "data": {
      "text/html": [
       "<div>\n",
       "<style scoped>\n",
       "    .dataframe tbody tr th:only-of-type {\n",
       "        vertical-align: middle;\n",
       "    }\n",
       "\n",
       "    .dataframe tbody tr th {\n",
       "        vertical-align: top;\n",
       "    }\n",
       "\n",
       "    .dataframe thead th {\n",
       "        text-align: right;\n",
       "    }\n",
       "</style>\n",
       "<table border=\"1\" class=\"dataframe\">\n",
       "  <thead>\n",
       "    <tr style=\"text-align: right;\">\n",
       "      <th></th>\n",
       "      <th>name</th>\n",
       "      <th>classification</th>\n",
       "      <th>designation</th>\n",
       "      <th>average_height</th>\n",
       "      <th>skin_colors</th>\n",
       "      <th>hair_colors</th>\n",
       "      <th>eye_colors</th>\n",
       "      <th>average_lifespan</th>\n",
       "      <th>homeworld</th>\n",
       "      <th>language</th>\n",
       "      <th>people</th>\n",
       "      <th>films</th>\n",
       "      <th>created</th>\n",
       "      <th>edited</th>\n",
       "      <th>url</th>\n",
       "    </tr>\n",
       "  </thead>\n",
       "  <tbody>\n",
       "    <tr>\n",
       "      <th>0</th>\n",
       "      <td>Human</td>\n",
       "      <td>mammal</td>\n",
       "      <td>sentient</td>\n",
       "      <td>180</td>\n",
       "      <td>caucasian, black, asian, hispanic</td>\n",
       "      <td>blonde, brown, black, red</td>\n",
       "      <td>brown, blue, green, hazel, grey, amber</td>\n",
       "      <td>120</td>\n",
       "      <td>https://swapi.dev/api/planets/9/</td>\n",
       "      <td>Galactic Basic</td>\n",
       "      <td>[https://swapi.dev/api/people/66/, https://swa...</td>\n",
       "      <td>[https://swapi.dev/api/films/1/, https://swapi...</td>\n",
       "      <td>2014-12-10T13:52:11.567000Z</td>\n",
       "      <td>2014-12-20T21:36:42.136000Z</td>\n",
       "      <td>https://swapi.dev/api/species/1/</td>\n",
       "    </tr>\n",
       "    <tr>\n",
       "      <th>1</th>\n",
       "      <td>Droid</td>\n",
       "      <td>artificial</td>\n",
       "      <td>sentient</td>\n",
       "      <td>n/a</td>\n",
       "      <td>n/a</td>\n",
       "      <td>n/a</td>\n",
       "      <td>n/a</td>\n",
       "      <td>indefinite</td>\n",
       "      <td>None</td>\n",
       "      <td>n/a</td>\n",
       "      <td>[https://swapi.dev/api/people/2/, https://swap...</td>\n",
       "      <td>[https://swapi.dev/api/films/1/, https://swapi...</td>\n",
       "      <td>2014-12-10T15:16:16.259000Z</td>\n",
       "      <td>2014-12-20T21:36:42.139000Z</td>\n",
       "      <td>https://swapi.dev/api/species/2/</td>\n",
       "    </tr>\n",
       "    <tr>\n",
       "      <th>2</th>\n",
       "      <td>Wookie</td>\n",
       "      <td>mammal</td>\n",
       "      <td>sentient</td>\n",
       "      <td>210</td>\n",
       "      <td>gray</td>\n",
       "      <td>black, brown</td>\n",
       "      <td>blue, green, yellow, brown, golden, red</td>\n",
       "      <td>400</td>\n",
       "      <td>https://swapi.dev/api/planets/14/</td>\n",
       "      <td>Shyriiwook</td>\n",
       "      <td>[https://swapi.dev/api/people/13/, https://swa...</td>\n",
       "      <td>[https://swapi.dev/api/films/1/, https://swapi...</td>\n",
       "      <td>2014-12-10T16:44:31.486000Z</td>\n",
       "      <td>2014-12-20T21:36:42.142000Z</td>\n",
       "      <td>https://swapi.dev/api/species/3/</td>\n",
       "    </tr>\n",
       "    <tr>\n",
       "      <th>3</th>\n",
       "      <td>Rodian</td>\n",
       "      <td>sentient</td>\n",
       "      <td>reptilian</td>\n",
       "      <td>170</td>\n",
       "      <td>green, blue</td>\n",
       "      <td>n/a</td>\n",
       "      <td>black</td>\n",
       "      <td>unknown</td>\n",
       "      <td>https://swapi.dev/api/planets/23/</td>\n",
       "      <td>Galatic Basic</td>\n",
       "      <td>[https://swapi.dev/api/people/15/]</td>\n",
       "      <td>[https://swapi.dev/api/films/1/]</td>\n",
       "      <td>2014-12-10T17:05:26.471000Z</td>\n",
       "      <td>2014-12-20T21:36:42.144000Z</td>\n",
       "      <td>https://swapi.dev/api/species/4/</td>\n",
       "    </tr>\n",
       "    <tr>\n",
       "      <th>4</th>\n",
       "      <td>Hutt</td>\n",
       "      <td>gastropod</td>\n",
       "      <td>sentient</td>\n",
       "      <td>300</td>\n",
       "      <td>green, brown, tan</td>\n",
       "      <td>n/a</td>\n",
       "      <td>yellow, red</td>\n",
       "      <td>1000</td>\n",
       "      <td>https://swapi.dev/api/planets/24/</td>\n",
       "      <td>Huttese</td>\n",
       "      <td>[https://swapi.dev/api/people/16/]</td>\n",
       "      <td>[https://swapi.dev/api/films/1/, https://swapi...</td>\n",
       "      <td>2014-12-10T17:12:50.410000Z</td>\n",
       "      <td>2014-12-20T21:36:42.146000Z</td>\n",
       "      <td>https://swapi.dev/api/species/5/</td>\n",
       "    </tr>\n",
       "  </tbody>\n",
       "</table>\n",
       "</div>"
      ],
      "text/plain": [
       "     name classification designation average_height  \\\n",
       "0   Human         mammal    sentient            180   \n",
       "1   Droid     artificial    sentient            n/a   \n",
       "2  Wookie         mammal    sentient            210   \n",
       "3  Rodian       sentient   reptilian            170   \n",
       "4    Hutt      gastropod    sentient            300   \n",
       "\n",
       "                         skin_colors                hair_colors  \\\n",
       "0  caucasian, black, asian, hispanic  blonde, brown, black, red   \n",
       "1                                n/a                        n/a   \n",
       "2                               gray               black, brown   \n",
       "3                        green, blue                        n/a   \n",
       "4                  green, brown, tan                        n/a   \n",
       "\n",
       "                                eye_colors average_lifespan  \\\n",
       "0   brown, blue, green, hazel, grey, amber              120   \n",
       "1                                      n/a       indefinite   \n",
       "2  blue, green, yellow, brown, golden, red              400   \n",
       "3                                    black          unknown   \n",
       "4                              yellow, red             1000   \n",
       "\n",
       "                           homeworld        language  \\\n",
       "0   https://swapi.dev/api/planets/9/  Galactic Basic   \n",
       "1                               None             n/a   \n",
       "2  https://swapi.dev/api/planets/14/      Shyriiwook   \n",
       "3  https://swapi.dev/api/planets/23/   Galatic Basic   \n",
       "4  https://swapi.dev/api/planets/24/         Huttese   \n",
       "\n",
       "                                              people  \\\n",
       "0  [https://swapi.dev/api/people/66/, https://swa...   \n",
       "1  [https://swapi.dev/api/people/2/, https://swap...   \n",
       "2  [https://swapi.dev/api/people/13/, https://swa...   \n",
       "3                 [https://swapi.dev/api/people/15/]   \n",
       "4                 [https://swapi.dev/api/people/16/]   \n",
       "\n",
       "                                               films  \\\n",
       "0  [https://swapi.dev/api/films/1/, https://swapi...   \n",
       "1  [https://swapi.dev/api/films/1/, https://swapi...   \n",
       "2  [https://swapi.dev/api/films/1/, https://swapi...   \n",
       "3                   [https://swapi.dev/api/films/1/]   \n",
       "4  [https://swapi.dev/api/films/1/, https://swapi...   \n",
       "\n",
       "                       created                       edited  \\\n",
       "0  2014-12-10T13:52:11.567000Z  2014-12-20T21:36:42.136000Z   \n",
       "1  2014-12-10T15:16:16.259000Z  2014-12-20T21:36:42.139000Z   \n",
       "2  2014-12-10T16:44:31.486000Z  2014-12-20T21:36:42.142000Z   \n",
       "3  2014-12-10T17:05:26.471000Z  2014-12-20T21:36:42.144000Z   \n",
       "4  2014-12-10T17:12:50.410000Z  2014-12-20T21:36:42.146000Z   \n",
       "\n",
       "                                url  \n",
       "0  https://swapi.dev/api/species/1/  \n",
       "1  https://swapi.dev/api/species/2/  \n",
       "2  https://swapi.dev/api/species/3/  \n",
       "3  https://swapi.dev/api/species/4/  \n",
       "4  https://swapi.dev/api/species/5/  "
      ]
     },
     "execution_count": 46,
     "metadata": {},
     "output_type": "execute_result"
    }
   ],
   "source": [
    "species = pd.DataFrame(species_json['results'])\n",
    "species.head()"
   ]
  },
  {
   "cell_type": "markdown",
   "metadata": {
    "id": "DzjSHwJJYgog"
   },
   "source": [
    "Use your knowledge of the returned JSON data, and Python dictionaries, to find out how many results you got. How many were you expecting based on the `count` returned in the API?"
   ]
  },
  {
   "cell_type": "code",
   "execution_count": 47,
   "metadata": {
    "id": "DzVLLhxTYgoh"
   },
   "outputs": [
    {
     "data": {
      "text/plain": [
       "10"
      ]
     },
     "execution_count": 47,
     "metadata": {},
     "output_type": "execute_result"
    }
   ],
   "source": [
    "len(species)"
   ]
  },
  {
   "cell_type": "markdown",
   "metadata": {
    "id": "Nhpb3kl6Ygoh"
   },
   "source": [
    "Looks like the results are **paginated** meaning we can only get 10 results at a time.\n",
    "\n",
    "What is the url (including the parameter) to get the next page of results?"
   ]
  },
  {
   "cell_type": "code",
   "execution_count": 48,
   "metadata": {
    "id": "qqcNoRh2Ygoh"
   },
   "outputs": [
    {
     "data": {
      "text/plain": [
       "{'count': 37,\n",
       " 'next': 'https://swapi.dev/api/species/?page=2',\n",
       " 'previous': None,\n",
       " 'results': [{'name': 'Human',\n",
       "   'classification': 'mammal',\n",
       "   'designation': 'sentient',\n",
       "   'average_height': '180',\n",
       "   'skin_colors': 'caucasian, black, asian, hispanic',\n",
       "   'hair_colors': 'blonde, brown, black, red',\n",
       "   'eye_colors': 'brown, blue, green, hazel, grey, amber',\n",
       "   'average_lifespan': '120',\n",
       "   'homeworld': 'https://swapi.dev/api/planets/9/',\n",
       "   'language': 'Galactic Basic',\n",
       "   'people': ['https://swapi.dev/api/people/66/',\n",
       "    'https://swapi.dev/api/people/67/',\n",
       "    'https://swapi.dev/api/people/68/',\n",
       "    'https://swapi.dev/api/people/74/'],\n",
       "   'films': ['https://swapi.dev/api/films/1/',\n",
       "    'https://swapi.dev/api/films/2/',\n",
       "    'https://swapi.dev/api/films/3/',\n",
       "    'https://swapi.dev/api/films/4/',\n",
       "    'https://swapi.dev/api/films/5/',\n",
       "    'https://swapi.dev/api/films/6/'],\n",
       "   'created': '2014-12-10T13:52:11.567000Z',\n",
       "   'edited': '2014-12-20T21:36:42.136000Z',\n",
       "   'url': 'https://swapi.dev/api/species/1/'},\n",
       "  {'name': 'Droid',\n",
       "   'classification': 'artificial',\n",
       "   'designation': 'sentient',\n",
       "   'average_height': 'n/a',\n",
       "   'skin_colors': 'n/a',\n",
       "   'hair_colors': 'n/a',\n",
       "   'eye_colors': 'n/a',\n",
       "   'average_lifespan': 'indefinite',\n",
       "   'homeworld': None,\n",
       "   'language': 'n/a',\n",
       "   'people': ['https://swapi.dev/api/people/2/',\n",
       "    'https://swapi.dev/api/people/3/',\n",
       "    'https://swapi.dev/api/people/8/',\n",
       "    'https://swapi.dev/api/people/23/'],\n",
       "   'films': ['https://swapi.dev/api/films/1/',\n",
       "    'https://swapi.dev/api/films/2/',\n",
       "    'https://swapi.dev/api/films/3/',\n",
       "    'https://swapi.dev/api/films/4/',\n",
       "    'https://swapi.dev/api/films/5/',\n",
       "    'https://swapi.dev/api/films/6/'],\n",
       "   'created': '2014-12-10T15:16:16.259000Z',\n",
       "   'edited': '2014-12-20T21:36:42.139000Z',\n",
       "   'url': 'https://swapi.dev/api/species/2/'},\n",
       "  {'name': 'Wookie',\n",
       "   'classification': 'mammal',\n",
       "   'designation': 'sentient',\n",
       "   'average_height': '210',\n",
       "   'skin_colors': 'gray',\n",
       "   'hair_colors': 'black, brown',\n",
       "   'eye_colors': 'blue, green, yellow, brown, golden, red',\n",
       "   'average_lifespan': '400',\n",
       "   'homeworld': 'https://swapi.dev/api/planets/14/',\n",
       "   'language': 'Shyriiwook',\n",
       "   'people': ['https://swapi.dev/api/people/13/',\n",
       "    'https://swapi.dev/api/people/80/'],\n",
       "   'films': ['https://swapi.dev/api/films/1/',\n",
       "    'https://swapi.dev/api/films/2/',\n",
       "    'https://swapi.dev/api/films/3/',\n",
       "    'https://swapi.dev/api/films/6/'],\n",
       "   'created': '2014-12-10T16:44:31.486000Z',\n",
       "   'edited': '2014-12-20T21:36:42.142000Z',\n",
       "   'url': 'https://swapi.dev/api/species/3/'},\n",
       "  {'name': 'Rodian',\n",
       "   'classification': 'sentient',\n",
       "   'designation': 'reptilian',\n",
       "   'average_height': '170',\n",
       "   'skin_colors': 'green, blue',\n",
       "   'hair_colors': 'n/a',\n",
       "   'eye_colors': 'black',\n",
       "   'average_lifespan': 'unknown',\n",
       "   'homeworld': 'https://swapi.dev/api/planets/23/',\n",
       "   'language': 'Galatic Basic',\n",
       "   'people': ['https://swapi.dev/api/people/15/'],\n",
       "   'films': ['https://swapi.dev/api/films/1/'],\n",
       "   'created': '2014-12-10T17:05:26.471000Z',\n",
       "   'edited': '2014-12-20T21:36:42.144000Z',\n",
       "   'url': 'https://swapi.dev/api/species/4/'},\n",
       "  {'name': 'Hutt',\n",
       "   'classification': 'gastropod',\n",
       "   'designation': 'sentient',\n",
       "   'average_height': '300',\n",
       "   'skin_colors': 'green, brown, tan',\n",
       "   'hair_colors': 'n/a',\n",
       "   'eye_colors': 'yellow, red',\n",
       "   'average_lifespan': '1000',\n",
       "   'homeworld': 'https://swapi.dev/api/planets/24/',\n",
       "   'language': 'Huttese',\n",
       "   'people': ['https://swapi.dev/api/people/16/'],\n",
       "   'films': ['https://swapi.dev/api/films/1/',\n",
       "    'https://swapi.dev/api/films/3/'],\n",
       "   'created': '2014-12-10T17:12:50.410000Z',\n",
       "   'edited': '2014-12-20T21:36:42.146000Z',\n",
       "   'url': 'https://swapi.dev/api/species/5/'},\n",
       "  {'name': \"Yoda's species\",\n",
       "   'classification': 'mammal',\n",
       "   'designation': 'sentient',\n",
       "   'average_height': '66',\n",
       "   'skin_colors': 'green, yellow',\n",
       "   'hair_colors': 'brown, white',\n",
       "   'eye_colors': 'brown, green, yellow',\n",
       "   'average_lifespan': '900',\n",
       "   'homeworld': 'https://swapi.dev/api/planets/28/',\n",
       "   'language': 'Galactic basic',\n",
       "   'people': ['https://swapi.dev/api/people/20/'],\n",
       "   'films': ['https://swapi.dev/api/films/2/',\n",
       "    'https://swapi.dev/api/films/3/',\n",
       "    'https://swapi.dev/api/films/4/',\n",
       "    'https://swapi.dev/api/films/5/',\n",
       "    'https://swapi.dev/api/films/6/'],\n",
       "   'created': '2014-12-15T12:27:22.877000Z',\n",
       "   'edited': '2014-12-20T21:36:42.148000Z',\n",
       "   'url': 'https://swapi.dev/api/species/6/'},\n",
       "  {'name': 'Trandoshan',\n",
       "   'classification': 'reptile',\n",
       "   'designation': 'sentient',\n",
       "   'average_height': '200',\n",
       "   'skin_colors': 'brown, green',\n",
       "   'hair_colors': 'none',\n",
       "   'eye_colors': 'yellow, orange',\n",
       "   'average_lifespan': 'unknown',\n",
       "   'homeworld': 'https://swapi.dev/api/planets/29/',\n",
       "   'language': 'Dosh',\n",
       "   'people': ['https://swapi.dev/api/people/24/'],\n",
       "   'films': ['https://swapi.dev/api/films/2/'],\n",
       "   'created': '2014-12-15T13:07:47.704000Z',\n",
       "   'edited': '2014-12-20T21:36:42.151000Z',\n",
       "   'url': 'https://swapi.dev/api/species/7/'},\n",
       "  {'name': 'Mon Calamari',\n",
       "   'classification': 'amphibian',\n",
       "   'designation': 'sentient',\n",
       "   'average_height': '160',\n",
       "   'skin_colors': 'red, blue, brown, magenta',\n",
       "   'hair_colors': 'none',\n",
       "   'eye_colors': 'yellow',\n",
       "   'average_lifespan': 'unknown',\n",
       "   'homeworld': 'https://swapi.dev/api/planets/31/',\n",
       "   'language': 'Mon Calamarian',\n",
       "   'people': ['https://swapi.dev/api/people/27/'],\n",
       "   'films': ['https://swapi.dev/api/films/3/'],\n",
       "   'created': '2014-12-18T11:09:52.263000Z',\n",
       "   'edited': '2014-12-20T21:36:42.153000Z',\n",
       "   'url': 'https://swapi.dev/api/species/8/'},\n",
       "  {'name': 'Ewok',\n",
       "   'classification': 'mammal',\n",
       "   'designation': 'sentient',\n",
       "   'average_height': '100',\n",
       "   'skin_colors': 'brown',\n",
       "   'hair_colors': 'white, brown, black',\n",
       "   'eye_colors': 'orange, brown',\n",
       "   'average_lifespan': 'unknown',\n",
       "   'homeworld': 'https://swapi.dev/api/planets/7/',\n",
       "   'language': 'Ewokese',\n",
       "   'people': ['https://swapi.dev/api/people/30/'],\n",
       "   'films': ['https://swapi.dev/api/films/3/'],\n",
       "   'created': '2014-12-18T11:22:00.285000Z',\n",
       "   'edited': '2014-12-20T21:36:42.155000Z',\n",
       "   'url': 'https://swapi.dev/api/species/9/'},\n",
       "  {'name': 'Sullustan',\n",
       "   'classification': 'mammal',\n",
       "   'designation': 'sentient',\n",
       "   'average_height': '180',\n",
       "   'skin_colors': 'pale',\n",
       "   'hair_colors': 'none',\n",
       "   'eye_colors': 'black',\n",
       "   'average_lifespan': 'unknown',\n",
       "   'homeworld': 'https://swapi.dev/api/planets/33/',\n",
       "   'language': 'Sullutese',\n",
       "   'people': ['https://swapi.dev/api/people/31/'],\n",
       "   'films': ['https://swapi.dev/api/films/3/'],\n",
       "   'created': '2014-12-18T11:26:20.103000Z',\n",
       "   'edited': '2014-12-20T21:36:42.157000Z',\n",
       "   'url': 'https://swapi.dev/api/species/10/'}]}"
      ]
     },
     "execution_count": 48,
     "metadata": {},
     "output_type": "execute_result"
    }
   ],
   "source": [
    "species_json"
   ]
  },
  {
   "cell_type": "markdown",
   "metadata": {
    "id": "1JYPRDqIYgoh"
   },
   "source": [
    "Let's collect all the species data now, by combining the paginated data.\n",
    "\n",
    "Write some code (or even a `for` loop if know how!) to get subsequent pages of results.\n",
    "\n",
    "You will need to:\n",
    "\n",
    "- change the relevant parameter each time to get the next page of results\n",
    "- for each page, store the results in a list\n",
    "- keep adding each page's worth of results to a \"master\" list of results (hint: you can use the `extend` method on a list)\n",
    "\n",
    "Verify that you have the correct number of records in your list."
   ]
  },
  {
   "cell_type": "code",
   "execution_count": 52,
   "metadata": {
    "id": "KBHRPrJhYgoh"
   },
   "outputs": [
    {
     "data": {
      "text/plain": [
       "[{'name': 'Human',\n",
       "  'classification': 'mammal',\n",
       "  'designation': 'sentient',\n",
       "  'average_height': '180',\n",
       "  'skin_colors': 'caucasian, black, asian, hispanic',\n",
       "  'hair_colors': 'blonde, brown, black, red',\n",
       "  'eye_colors': 'brown, blue, green, hazel, grey, amber',\n",
       "  'average_lifespan': '120',\n",
       "  'homeworld': 'https://swapi.dev/api/planets/9/',\n",
       "  'language': 'Galactic Basic',\n",
       "  'people': ['https://swapi.dev/api/people/66/',\n",
       "   'https://swapi.dev/api/people/67/',\n",
       "   'https://swapi.dev/api/people/68/',\n",
       "   'https://swapi.dev/api/people/74/'],\n",
       "  'films': ['https://swapi.dev/api/films/1/',\n",
       "   'https://swapi.dev/api/films/2/',\n",
       "   'https://swapi.dev/api/films/3/',\n",
       "   'https://swapi.dev/api/films/4/',\n",
       "   'https://swapi.dev/api/films/5/',\n",
       "   'https://swapi.dev/api/films/6/'],\n",
       "  'created': '2014-12-10T13:52:11.567000Z',\n",
       "  'edited': '2014-12-20T21:36:42.136000Z',\n",
       "  'url': 'https://swapi.dev/api/species/1/'},\n",
       " {'name': 'Droid',\n",
       "  'classification': 'artificial',\n",
       "  'designation': 'sentient',\n",
       "  'average_height': 'n/a',\n",
       "  'skin_colors': 'n/a',\n",
       "  'hair_colors': 'n/a',\n",
       "  'eye_colors': 'n/a',\n",
       "  'average_lifespan': 'indefinite',\n",
       "  'homeworld': None,\n",
       "  'language': 'n/a',\n",
       "  'people': ['https://swapi.dev/api/people/2/',\n",
       "   'https://swapi.dev/api/people/3/',\n",
       "   'https://swapi.dev/api/people/8/',\n",
       "   'https://swapi.dev/api/people/23/'],\n",
       "  'films': ['https://swapi.dev/api/films/1/',\n",
       "   'https://swapi.dev/api/films/2/',\n",
       "   'https://swapi.dev/api/films/3/',\n",
       "   'https://swapi.dev/api/films/4/',\n",
       "   'https://swapi.dev/api/films/5/',\n",
       "   'https://swapi.dev/api/films/6/'],\n",
       "  'created': '2014-12-10T15:16:16.259000Z',\n",
       "  'edited': '2014-12-20T21:36:42.139000Z',\n",
       "  'url': 'https://swapi.dev/api/species/2/'},\n",
       " {'name': 'Wookie',\n",
       "  'classification': 'mammal',\n",
       "  'designation': 'sentient',\n",
       "  'average_height': '210',\n",
       "  'skin_colors': 'gray',\n",
       "  'hair_colors': 'black, brown',\n",
       "  'eye_colors': 'blue, green, yellow, brown, golden, red',\n",
       "  'average_lifespan': '400',\n",
       "  'homeworld': 'https://swapi.dev/api/planets/14/',\n",
       "  'language': 'Shyriiwook',\n",
       "  'people': ['https://swapi.dev/api/people/13/',\n",
       "   'https://swapi.dev/api/people/80/'],\n",
       "  'films': ['https://swapi.dev/api/films/1/',\n",
       "   'https://swapi.dev/api/films/2/',\n",
       "   'https://swapi.dev/api/films/3/',\n",
       "   'https://swapi.dev/api/films/6/'],\n",
       "  'created': '2014-12-10T16:44:31.486000Z',\n",
       "  'edited': '2014-12-20T21:36:42.142000Z',\n",
       "  'url': 'https://swapi.dev/api/species/3/'},\n",
       " {'name': 'Rodian',\n",
       "  'classification': 'sentient',\n",
       "  'designation': 'reptilian',\n",
       "  'average_height': '170',\n",
       "  'skin_colors': 'green, blue',\n",
       "  'hair_colors': 'n/a',\n",
       "  'eye_colors': 'black',\n",
       "  'average_lifespan': 'unknown',\n",
       "  'homeworld': 'https://swapi.dev/api/planets/23/',\n",
       "  'language': 'Galatic Basic',\n",
       "  'people': ['https://swapi.dev/api/people/15/'],\n",
       "  'films': ['https://swapi.dev/api/films/1/'],\n",
       "  'created': '2014-12-10T17:05:26.471000Z',\n",
       "  'edited': '2014-12-20T21:36:42.144000Z',\n",
       "  'url': 'https://swapi.dev/api/species/4/'},\n",
       " {'name': 'Hutt',\n",
       "  'classification': 'gastropod',\n",
       "  'designation': 'sentient',\n",
       "  'average_height': '300',\n",
       "  'skin_colors': 'green, brown, tan',\n",
       "  'hair_colors': 'n/a',\n",
       "  'eye_colors': 'yellow, red',\n",
       "  'average_lifespan': '1000',\n",
       "  'homeworld': 'https://swapi.dev/api/planets/24/',\n",
       "  'language': 'Huttese',\n",
       "  'people': ['https://swapi.dev/api/people/16/'],\n",
       "  'films': ['https://swapi.dev/api/films/1/',\n",
       "   'https://swapi.dev/api/films/3/'],\n",
       "  'created': '2014-12-10T17:12:50.410000Z',\n",
       "  'edited': '2014-12-20T21:36:42.146000Z',\n",
       "  'url': 'https://swapi.dev/api/species/5/'},\n",
       " {'name': \"Yoda's species\",\n",
       "  'classification': 'mammal',\n",
       "  'designation': 'sentient',\n",
       "  'average_height': '66',\n",
       "  'skin_colors': 'green, yellow',\n",
       "  'hair_colors': 'brown, white',\n",
       "  'eye_colors': 'brown, green, yellow',\n",
       "  'average_lifespan': '900',\n",
       "  'homeworld': 'https://swapi.dev/api/planets/28/',\n",
       "  'language': 'Galactic basic',\n",
       "  'people': ['https://swapi.dev/api/people/20/'],\n",
       "  'films': ['https://swapi.dev/api/films/2/',\n",
       "   'https://swapi.dev/api/films/3/',\n",
       "   'https://swapi.dev/api/films/4/',\n",
       "   'https://swapi.dev/api/films/5/',\n",
       "   'https://swapi.dev/api/films/6/'],\n",
       "  'created': '2014-12-15T12:27:22.877000Z',\n",
       "  'edited': '2014-12-20T21:36:42.148000Z',\n",
       "  'url': 'https://swapi.dev/api/species/6/'},\n",
       " {'name': 'Trandoshan',\n",
       "  'classification': 'reptile',\n",
       "  'designation': 'sentient',\n",
       "  'average_height': '200',\n",
       "  'skin_colors': 'brown, green',\n",
       "  'hair_colors': 'none',\n",
       "  'eye_colors': 'yellow, orange',\n",
       "  'average_lifespan': 'unknown',\n",
       "  'homeworld': 'https://swapi.dev/api/planets/29/',\n",
       "  'language': 'Dosh',\n",
       "  'people': ['https://swapi.dev/api/people/24/'],\n",
       "  'films': ['https://swapi.dev/api/films/2/'],\n",
       "  'created': '2014-12-15T13:07:47.704000Z',\n",
       "  'edited': '2014-12-20T21:36:42.151000Z',\n",
       "  'url': 'https://swapi.dev/api/species/7/'},\n",
       " {'name': 'Mon Calamari',\n",
       "  'classification': 'amphibian',\n",
       "  'designation': 'sentient',\n",
       "  'average_height': '160',\n",
       "  'skin_colors': 'red, blue, brown, magenta',\n",
       "  'hair_colors': 'none',\n",
       "  'eye_colors': 'yellow',\n",
       "  'average_lifespan': 'unknown',\n",
       "  'homeworld': 'https://swapi.dev/api/planets/31/',\n",
       "  'language': 'Mon Calamarian',\n",
       "  'people': ['https://swapi.dev/api/people/27/'],\n",
       "  'films': ['https://swapi.dev/api/films/3/'],\n",
       "  'created': '2014-12-18T11:09:52.263000Z',\n",
       "  'edited': '2014-12-20T21:36:42.153000Z',\n",
       "  'url': 'https://swapi.dev/api/species/8/'},\n",
       " {'name': 'Ewok',\n",
       "  'classification': 'mammal',\n",
       "  'designation': 'sentient',\n",
       "  'average_height': '100',\n",
       "  'skin_colors': 'brown',\n",
       "  'hair_colors': 'white, brown, black',\n",
       "  'eye_colors': 'orange, brown',\n",
       "  'average_lifespan': 'unknown',\n",
       "  'homeworld': 'https://swapi.dev/api/planets/7/',\n",
       "  'language': 'Ewokese',\n",
       "  'people': ['https://swapi.dev/api/people/30/'],\n",
       "  'films': ['https://swapi.dev/api/films/3/'],\n",
       "  'created': '2014-12-18T11:22:00.285000Z',\n",
       "  'edited': '2014-12-20T21:36:42.155000Z',\n",
       "  'url': 'https://swapi.dev/api/species/9/'},\n",
       " {'name': 'Sullustan',\n",
       "  'classification': 'mammal',\n",
       "  'designation': 'sentient',\n",
       "  'average_height': '180',\n",
       "  'skin_colors': 'pale',\n",
       "  'hair_colors': 'none',\n",
       "  'eye_colors': 'black',\n",
       "  'average_lifespan': 'unknown',\n",
       "  'homeworld': 'https://swapi.dev/api/planets/33/',\n",
       "  'language': 'Sullutese',\n",
       "  'people': ['https://swapi.dev/api/people/31/'],\n",
       "  'films': ['https://swapi.dev/api/films/3/'],\n",
       "  'created': '2014-12-18T11:26:20.103000Z',\n",
       "  'edited': '2014-12-20T21:36:42.157000Z',\n",
       "  'url': 'https://swapi.dev/api/species/10/'},\n",
       " {'name': 'Neimodian',\n",
       "  'classification': 'unknown',\n",
       "  'designation': 'sentient',\n",
       "  'average_height': '180',\n",
       "  'skin_colors': 'grey, green',\n",
       "  'hair_colors': 'none',\n",
       "  'eye_colors': 'red, pink',\n",
       "  'average_lifespan': 'unknown',\n",
       "  'homeworld': 'https://swapi.dev/api/planets/18/',\n",
       "  'language': 'Neimoidia',\n",
       "  'people': ['https://swapi.dev/api/people/33/'],\n",
       "  'films': ['https://swapi.dev/api/films/4/'],\n",
       "  'created': '2014-12-19T17:07:31.319000Z',\n",
       "  'edited': '2014-12-20T21:36:42.160000Z',\n",
       "  'url': 'https://swapi.dev/api/species/11/'},\n",
       " {'name': 'Gungan',\n",
       "  'classification': 'amphibian',\n",
       "  'designation': 'sentient',\n",
       "  'average_height': '190',\n",
       "  'skin_colors': 'brown, green',\n",
       "  'hair_colors': 'none',\n",
       "  'eye_colors': 'orange',\n",
       "  'average_lifespan': 'unknown',\n",
       "  'homeworld': 'https://swapi.dev/api/planets/8/',\n",
       "  'language': 'Gungan basic',\n",
       "  'people': ['https://swapi.dev/api/people/36/',\n",
       "   'https://swapi.dev/api/people/37/',\n",
       "   'https://swapi.dev/api/people/38/'],\n",
       "  'films': ['https://swapi.dev/api/films/4/',\n",
       "   'https://swapi.dev/api/films/5/'],\n",
       "  'created': '2014-12-19T17:30:37.341000Z',\n",
       "  'edited': '2014-12-20T21:36:42.163000Z',\n",
       "  'url': 'https://swapi.dev/api/species/12/'},\n",
       " {'name': 'Toydarian',\n",
       "  'classification': 'mammal',\n",
       "  'designation': 'sentient',\n",
       "  'average_height': '120',\n",
       "  'skin_colors': 'blue, green, grey',\n",
       "  'hair_colors': 'none',\n",
       "  'eye_colors': 'yellow',\n",
       "  'average_lifespan': '91',\n",
       "  'homeworld': 'https://swapi.dev/api/planets/34/',\n",
       "  'language': 'Toydarian',\n",
       "  'people': ['https://swapi.dev/api/people/40/'],\n",
       "  'films': ['https://swapi.dev/api/films/4/',\n",
       "   'https://swapi.dev/api/films/5/'],\n",
       "  'created': '2014-12-19T17:48:56.893000Z',\n",
       "  'edited': '2014-12-20T21:36:42.165000Z',\n",
       "  'url': 'https://swapi.dev/api/species/13/'},\n",
       " {'name': 'Dug',\n",
       "  'classification': 'mammal',\n",
       "  'designation': 'sentient',\n",
       "  'average_height': '100',\n",
       "  'skin_colors': 'brown, purple, grey, red',\n",
       "  'hair_colors': 'none',\n",
       "  'eye_colors': 'yellow, blue',\n",
       "  'average_lifespan': 'unknown',\n",
       "  'homeworld': 'https://swapi.dev/api/planets/35/',\n",
       "  'language': 'Dugese',\n",
       "  'people': ['https://swapi.dev/api/people/41/'],\n",
       "  'films': ['https://swapi.dev/api/films/4/'],\n",
       "  'created': '2014-12-19T17:53:11.214000Z',\n",
       "  'edited': '2014-12-20T21:36:42.167000Z',\n",
       "  'url': 'https://swapi.dev/api/species/14/'},\n",
       " {'name': \"Twi'lek\",\n",
       "  'classification': 'mammals',\n",
       "  'designation': 'sentient',\n",
       "  'average_height': '200',\n",
       "  'skin_colors': 'orange, yellow, blue, green, pink, purple, tan',\n",
       "  'hair_colors': 'none',\n",
       "  'eye_colors': 'blue, brown, orange, pink',\n",
       "  'average_lifespan': 'unknown',\n",
       "  'homeworld': 'https://swapi.dev/api/planets/37/',\n",
       "  'language': \"Twi'leki\",\n",
       "  'people': ['https://swapi.dev/api/people/45/',\n",
       "   'https://swapi.dev/api/people/46/'],\n",
       "  'films': ['https://swapi.dev/api/films/3/',\n",
       "   'https://swapi.dev/api/films/4/',\n",
       "   'https://swapi.dev/api/films/5/',\n",
       "   'https://swapi.dev/api/films/6/'],\n",
       "  'created': '2014-12-20T09:48:02.406000Z',\n",
       "  'edited': '2014-12-20T21:36:42.169000Z',\n",
       "  'url': 'https://swapi.dev/api/species/15/'},\n",
       " {'name': 'Aleena',\n",
       "  'classification': 'reptile',\n",
       "  'designation': 'sentient',\n",
       "  'average_height': '80',\n",
       "  'skin_colors': 'blue, gray',\n",
       "  'hair_colors': 'none',\n",
       "  'eye_colors': 'unknown',\n",
       "  'average_lifespan': '79',\n",
       "  'homeworld': 'https://swapi.dev/api/planets/38/',\n",
       "  'language': 'Aleena',\n",
       "  'people': ['https://swapi.dev/api/people/47/'],\n",
       "  'films': ['https://swapi.dev/api/films/4/'],\n",
       "  'created': '2014-12-20T09:53:16.481000Z',\n",
       "  'edited': '2014-12-20T21:36:42.171000Z',\n",
       "  'url': 'https://swapi.dev/api/species/16/'},\n",
       " {'name': 'Vulptereen',\n",
       "  'classification': 'unknown',\n",
       "  'designation': 'sentient',\n",
       "  'average_height': '100',\n",
       "  'skin_colors': 'grey',\n",
       "  'hair_colors': 'none',\n",
       "  'eye_colors': 'yellow',\n",
       "  'average_lifespan': 'unknown',\n",
       "  'homeworld': 'https://swapi.dev/api/planets/39/',\n",
       "  'language': 'vulpterish',\n",
       "  'people': ['https://swapi.dev/api/people/48/'],\n",
       "  'films': ['https://swapi.dev/api/films/4/'],\n",
       "  'created': '2014-12-20T09:57:33.128000Z',\n",
       "  'edited': '2014-12-20T21:36:42.173000Z',\n",
       "  'url': 'https://swapi.dev/api/species/17/'},\n",
       " {'name': 'Xexto',\n",
       "  'classification': 'unknown',\n",
       "  'designation': 'sentient',\n",
       "  'average_height': '125',\n",
       "  'skin_colors': 'grey, yellow, purple',\n",
       "  'hair_colors': 'none',\n",
       "  'eye_colors': 'black',\n",
       "  'average_lifespan': 'unknown',\n",
       "  'homeworld': 'https://swapi.dev/api/planets/40/',\n",
       "  'language': 'Xextese',\n",
       "  'people': ['https://swapi.dev/api/people/49/'],\n",
       "  'films': ['https://swapi.dev/api/films/4/'],\n",
       "  'created': '2014-12-20T10:02:13.915000Z',\n",
       "  'edited': '2014-12-20T21:36:42.175000Z',\n",
       "  'url': 'https://swapi.dev/api/species/18/'},\n",
       " {'name': 'Toong',\n",
       "  'classification': 'unknown',\n",
       "  'designation': 'sentient',\n",
       "  'average_height': '200',\n",
       "  'skin_colors': 'grey, green, yellow',\n",
       "  'hair_colors': 'none',\n",
       "  'eye_colors': 'orange',\n",
       "  'average_lifespan': 'unknown',\n",
       "  'homeworld': 'https://swapi.dev/api/planets/41/',\n",
       "  'language': 'Tundan',\n",
       "  'people': ['https://swapi.dev/api/people/50/'],\n",
       "  'films': ['https://swapi.dev/api/films/4/',\n",
       "   'https://swapi.dev/api/films/6/'],\n",
       "  'created': '2014-12-20T10:08:36.795000Z',\n",
       "  'edited': '2014-12-20T21:36:42.177000Z',\n",
       "  'url': 'https://swapi.dev/api/species/19/'},\n",
       " {'name': 'Cerean',\n",
       "  'classification': 'mammal',\n",
       "  'designation': 'sentient',\n",
       "  'average_height': '200',\n",
       "  'skin_colors': 'pale pink',\n",
       "  'hair_colors': 'red, blond, black, white',\n",
       "  'eye_colors': 'hazel',\n",
       "  'average_lifespan': 'unknown',\n",
       "  'homeworld': 'https://swapi.dev/api/planets/43/',\n",
       "  'language': 'Cerean',\n",
       "  'people': ['https://swapi.dev/api/people/52/'],\n",
       "  'films': ['https://swapi.dev/api/films/4/',\n",
       "   'https://swapi.dev/api/films/6/'],\n",
       "  'created': '2014-12-20T10:15:33.765000Z',\n",
       "  'edited': '2014-12-20T21:36:42.179000Z',\n",
       "  'url': 'https://swapi.dev/api/species/20/'}]"
      ]
     },
     "execution_count": 52,
     "metadata": {},
     "output_type": "execute_result"
    }
   ],
   "source": [
    "#Cool but annoying if have multiple pages\n",
    "all_pages = []\n",
    "\n",
    "page_1 = \"https://swapi.dev/api/species?page=1\"\n",
    "page_1_data = requests.get(page_1)\n",
    "all_pages.extend(page_1_data.json()['results'])\n",
    "\n",
    "page_2 = \"https://swapi.dev/api/species?page=2\"\n",
    "page_2_data = requests.get(page_2)\n",
    "all_pages.extend(page_2_data.json()['results'])\n",
    "\n",
    "all_pages"
   ]
  },
  {
   "cell_type": "code",
   "execution_count": 53,
   "metadata": {},
   "outputs": [
    {
     "data": {
      "text/plain": [
       "20"
      ]
     },
     "execution_count": 53,
     "metadata": {},
     "output_type": "execute_result"
    }
   ],
   "source": [
    "len(all_pages)"
   ]
  },
  {
   "cell_type": "code",
   "execution_count": 54,
   "metadata": {},
   "outputs": [
    {
     "data": {
      "text/plain": [
       "37"
      ]
     },
     "execution_count": 54,
     "metadata": {},
     "output_type": "execute_result"
    }
   ],
   "source": [
    "#Best way: If you know the total number of pages (ex.4, or 100). Show total number of species.\n",
    "species_all_data = []\n",
    "for i in range(1,5):\n",
    "    species_page_url = requests.get(f\"https://swapi.dev/api/species?page={i}\")\n",
    "    species_page_data = species_page_url.json()['results']\n",
    "    species_all_data.extend(species_page_data)\n",
    "len(species_all_data)\n",
    "\n"
   ]
  },
  {
   "cell_type": "code",
   "execution_count": 56,
   "metadata": {},
   "outputs": [
    {
     "data": {
      "text/plain": [
       "74"
      ]
     },
     "execution_count": 56,
     "metadata": {},
     "output_type": "execute_result"
    }
   ],
   "source": [
    "#Another method for above\n",
    "for i in range(1,10000):\n",
    "    try:\n",
    "        species_page_url = requests.get(f\"https://swapi.dev/api/species?page={i}\")\n",
    "        species_page_data = species_page_url.json()['results']\n",
    "        species_all_data.extend(species_page_data)\n",
    "    except:\n",
    "        break\n",
    "len(species_all_data)"
   ]
  },
  {
   "cell_type": "code",
   "execution_count": 57,
   "metadata": {},
   "outputs": [
    {
     "data": {
      "text/plain": [
       "37"
      ]
     },
     "execution_count": 57,
     "metadata": {},
     "output_type": "execute_result"
    }
   ],
   "source": [
    "#While loop: If you don't know the total number of pages\n",
    "master = []\n",
    "url = 'https://swapi.dev/api/species'\n",
    "master.extend(requests.get(url).json()['results'])\n",
    "while True:\n",
    "    try: \n",
    "        next_url = requests.get(url).json()['next']\n",
    "    except:\n",
    "        break\n",
    "    if next_url == 'None':\n",
    "        break\n",
    "    else:\n",
    "        try:\n",
    "            master.extend(requests.get(next_url).json()['results'])\n",
    "        except:\n",
    "            break\n",
    "        url = next_url\n",
    "\n",
    "species = pd.DataFrame(master)\n",
    "species['name'].count()"
   ]
  },
  {
   "cell_type": "code",
   "execution_count": null,
   "metadata": {},
   "outputs": [],
   "source": []
  },
  {
   "cell_type": "code",
   "execution_count": null,
   "metadata": {},
   "outputs": [],
   "source": []
  },
  {
   "cell_type": "markdown",
   "metadata": {
    "id": "1sw9p_jmYgoh"
   },
   "source": [
    "##  Authentication\n",
    "\n",
    "---\n",
    "    \n",
    "In this exercise we will play around with a new API, published by Transport for London.\n",
    "    \n",
    "Unline the previous examples, this one requires authentication.\n",
    "\n",
    "Go to https://api-portal.tfl.gov.uk/signup and register your details, if you haven't already.\n",
    "\n",
    "Once your email has been verified, sign in and go to https://api-portal.tfl.gov.uk/product#product=2357355709892 to get a free API key that allows 500 requests per minute.\n",
    "\n",
    "Once you've successfully requested it, your API key can be retrieved from your profile: https://api-portal.tfl.gov.uk/profile. You'll need to click on \"show\" to actually show the key on the page.\n",
    "\n",
    "Now you've obtained your key, using it in this particular instance is as easy as appending a new parameter:"
   ]
  },
  {
   "cell_type": "code",
   "execution_count": null,
   "metadata": {
    "id": "m4cKoMCVYgoh"
   },
   "outputs": [],
   "source": [
    "# for example, let's look at live disruption information\n",
    "url = \"https://api.tfl.gov.uk/Line/Mode/tube/Disruption\"\n",
    "\n",
    "# remember to keep this private!\n",
    "API_KEY = \"\"\n",
    "\n",
    "# append the API key\n",
    "tfl = requests.get(f\"{url}?app_key={API_KEY}\")\n",
    "\n",
    "print(tfl.status_code)\n",
    "tfl.json()"
   ]
  },
  {
   "cell_type": "markdown",
   "metadata": {
    "id": "ihjTLGYqYgoi"
   },
   "source": [
    "## <font color='green'> Exercise 3: Transport for London</font>\n",
    "---\n",
    "\n",
    "Now it's time to answer some research questions using the API.\n",
    "\n",
    "### 1. Are there currently any lift disruptions? If so, how many?\n",
    "\n",
    "First, read the documentation to find out the url to get data on lift disruptions."
   ]
  },
  {
   "cell_type": "code",
   "execution_count": null,
   "metadata": {
    "id": "5XCYBIzaYgoi"
   },
   "outputs": [],
   "source": []
  },
  {
   "cell_type": "markdown",
   "metadata": {
    "id": "paXrNriqYgoi"
   },
   "source": [
    "Using the url and its parameter(s) find out how many accidents happened in the years 2019, 2020, and 2021.\n",
    "\n",
    "Remember to include your API key!\n"
   ]
  },
  {
   "cell_type": "code",
   "execution_count": 59,
   "metadata": {
    "id": "2XVO7IQPYgoi"
   },
   "outputs": [
    {
     "data": {
      "text/plain": [
       "<Response [200]>"
      ]
     },
     "execution_count": 59,
     "metadata": {},
     "output_type": "execute_result"
    }
   ],
   "source": [
    "requests.get(\"https://api.tfl.gov.uk/Disruptions/Lifts/\")"
   ]
  },
  {
   "cell_type": "code",
   "execution_count": 61,
   "metadata": {},
   "outputs": [
    {
     "data": {
      "text/plain": [
       "[{'icsCode': '1001127',\n",
       "  'naptanCode': '910GHACKNYC',\n",
       "  'stopPointName': 'Hackney Central Station',\n",
       "  'outageStartArea': 'RLY',\n",
       "  'outageEndArea': 'RPL W',\n",
       "  'message': 'Hackney Central: No Step Free Access - Step free access is not available to the westbound platform due to a faulty lift. Call us on 0343 222 1234 if you need help planning your journey.'},\n",
       " {'icsCode': '1000101',\n",
       "  'naptanCode': '910GHROW',\n",
       "  'stopPointName': 'Harrow & Wealdstone Station',\n",
       "  'outageStartArea': 'RPLAN',\n",
       "  'outageEndArea': 'FOOTB',\n",
       "  'message': 'Harrow & Wealdstone: No Step Free Access - Step free access is not available from platform 4, 5 and 6 to the NR platforms and the overbridge due to faulty lifts. Also ramps providing step free access between the trains and the NR platforms are not in service'},\n",
       " {'icsCode': '1000101',\n",
       "  'naptanCode': '910GHROW',\n",
       "  'stopPointName': 'Harrow & Wealdstone Station',\n",
       "  'outageStartArea': 'RPLAS',\n",
       "  'outageEndArea': 'FOOTB',\n",
       "  'message': 'Harrow & Wealdstone: No Step Free Access - Step free access is not available from platform 4, 5 and 6 to the NR platforms and the overbridge due to faulty lifts. Also ramps providing step free access between the trains and the NR platforms are not in service'},\n",
       " {'icsCode': '1000093',\n",
       "  'naptanCode': '940GZZLUGPK',\n",
       "  'stopPointName': 'Green Park',\n",
       "  'outageStartArea': 'LoCon',\n",
       "  'outageEndArea': 'Picca',\n",
       "  'message': 'Green Park: No Step Free Access - Step free access is not available to the Piccadilly line due to a faulty lift. Call us on 0343 222 1234 if you need help planning your journey.'},\n",
       " {'icsCode': '1000037',\n",
       "  'naptanCode': '910GCNDAW',\n",
       "  'stopPointName': 'Canada Water Station',\n",
       "  'outageStartArea': 'RLY',\n",
       "  'outageEndArea': 'RPL-S',\n",
       "  'message': 'Canada Water: No Step Free Access - Step free access is not available to the Jubilee line and southbound London Overground due to a faulty lift. Call us on 0343 222 1234 if you need help planning your journey.'},\n",
       " {'icsCode': '1000037',\n",
       "  'naptanCode': '910GCNDAW',\n",
       "  'stopPointName': 'Canada Water Station',\n",
       "  'outageStartArea': 'RLY',\n",
       "  'outageEndArea': 'Jubil',\n",
       "  'message': 'Canada Water: No Step Free Access - Step free access is not available to the Jubilee line and southbound London Overground due to a faulty lift. Call us on 0343 222 1234 if you need help planning your journey.'},\n",
       " {'icsCode': '1000271',\n",
       "  'naptanCode': '910GWLSDJHL',\n",
       "  'stopPointName': 'Willesden Junction Station',\n",
       "  'outageStartArea': 'Sub',\n",
       "  'outageEndArea': 'RPL-H',\n",
       "  'message': 'Willesden Junction: No Step Free Access - Step free access is not available to the London Overground (Richmond / Clapham Junction - Stratford route) due to a faulty lift. Call us on 0343 222 1234 if you need more information.'},\n",
       " {'icsCode': '1000262',\n",
       "  'naptanCode': '910GWHAMHL',\n",
       "  'stopPointName': 'West Ham',\n",
       "  'outageStartArea': 'RPL',\n",
       "  'outageEndArea': 'BookH',\n",
       "  'message': 'West Ham: No Step Free Access - Step free access is not available to the C2C platforms due planned works. Call 0343 222 1234 if you need further help.'},\n",
       " {'icsCode': '1000138',\n",
       "  'naptanCode': '940GZZLULVT',\n",
       "  'stopPointName': 'Liverpool Street Station',\n",
       "  'outageStartArea': 'ELBH',\n",
       "  'outageEndArea': 'ELM',\n",
       "  'message': 'Liverpool Street: No Step Free Access - Step free access to/from the Elizabeth line is not available via the Broadgate entrance / Liverpool St National Rail concourse due to a faulty lift. For step free access use the Moorgate station entrance.'},\n",
       " {'icsCode': '1000262',\n",
       "  'naptanCode': '910GWHAMHL',\n",
       "  'stopPointName': 'West Ham',\n",
       "  'outageStartArea': 'RPL',\n",
       "  'outageEndArea': 'BookH',\n",
       "  'message': 'West Ham: No Step Free Access - Step free access is not available to the C2C platforms due to planned works. Call 0343 222 1234 if you need further help.'}]"
      ]
     },
     "execution_count": 61,
     "metadata": {},
     "output_type": "execute_result"
    }
   ],
   "source": [
    "disruptions = requests.get(\"https://api.tfl.gov.uk/Disruptions/Lifts/\").json()\n",
    "disruptions"
   ]
  },
  {
   "cell_type": "code",
   "execution_count": null,
   "metadata": {},
   "outputs": [],
   "source": []
  },
  {
   "cell_type": "markdown",
   "metadata": {
    "id": "EyyIVwhbYgoi"
   },
   "source": [
    "### 2. How many bike points are there around Hyde Park?\n",
    "\n",
    "Find the API endpoint that lets you search for bike points by location, then use the string \"Hyde Park\" to answer the question.\n",
    "\n",
    "Remember to include your API key!"
   ]
  },
  {
   "cell_type": "code",
   "execution_count": null,
   "metadata": {
    "id": "wVBAHV82Ygoi"
   },
   "outputs": [],
   "source": []
  },
  {
   "cell_type": "markdown",
   "metadata": {
    "id": "hAlEXT_LYgoj"
   },
   "source": [
    "### 3. Find out how many stations there are along the Victoria line.\n",
    "\n",
    "First, identify the correct endpoint on the [Line page](https://api-portal.tfl.gov.uk/api-details#api=Line)\n",
    "\n",
    "Remember to include your API key!"
   ]
  },
  {
   "cell_type": "code",
   "execution_count": 62,
   "metadata": {
    "id": "fONcmCBfYgoj"
   },
   "outputs": [
    {
     "data": {
      "text/plain": [
       "10"
      ]
     },
     "execution_count": 62,
     "metadata": {},
     "output_type": "execute_result"
    }
   ],
   "source": [
    "len(disruptions)"
   ]
  },
  {
   "cell_type": "code",
   "execution_count": null,
   "metadata": {},
   "outputs": [],
   "source": []
  }
 ],
 "metadata": {
  "colab": {
   "provenance": []
  },
  "kernelspec": {
   "display_name": "Python 3 (ipykernel)",
   "language": "python",
   "name": "python3"
  },
  "language_info": {
   "codemirror_mode": {
    "name": "ipython",
    "version": 3
   },
   "file_extension": ".py",
   "mimetype": "text/x-python",
   "name": "python",
   "nbconvert_exporter": "python",
   "pygments_lexer": "ipython3",
   "version": "3.10.9"
  }
 },
 "nbformat": 4,
 "nbformat_minor": 1
}
