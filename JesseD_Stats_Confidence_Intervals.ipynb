{
 "cells": [
  {
   "cell_type": "markdown",
   "metadata": {
    "id": "mWy5_m1v1Fan"
   },
   "source": [
    "# Statistical Inference and Confidence Intervals\n",
    "Credit: Matt Brems, Riley Dallas\n",
    "\n",
    "### Learning Objectives\n",
    "- Explain the relationships among parameter, sample, statistic, and population.\n",
    "- Define and describe sampling distribution.\n",
    "- Describe the Central Limit Theorem.\n",
    "- Generate and interpret a theoretical confidence interval.\n",
    "- Bonus: Generate and interpret a bootstrapped confidence interval.\n",
    "\n",
    "## Video Game Example\n",
    "Let's say you are playing a video game (like \"Halo\" or \"Call of Duty\") where the goal is to kill your opponent. Additionally, let's say your opponent is invisible.\n",
    "\n",
    "When deciding which weapon to use, you have two options:\n",
    "- a sniper rifle with one bullet in it, or\n",
    "- a grenade launcher with one grenade in it. \n",
    "\n",
    "<details><summary>Which weapon would you prefer?</summary>\n",
    "    \n",
    "- You're likely going to prefer the grenade launcher!\n",
    "- Why? Well, an explosion from a grenade will cover more area than one bullet fired from a rifle.\n",
    "\n",
    "![](./images/halo3.gif)\n",
    "</details>\n",
    "\n",
    "This is the same as the logic behind confidence intervals. By calculating a statistic on a sample, ***maybe*** we get lucky and our statistic is exactly equal to our parameter... however, we're probably not going to get this lucky.\n",
    "\n",
    "Let's see an example of that.\n",
    "\n",
    "## Polling Example\n",
    "\n",
    "You're running for office in a small town of 1,000 voters. Everyone in your town cares deeply about voting, so all 1,000 of them are going to vote.\n",
    "\n",
    "You'd like to ask \"All in all, do you think things in the nation are generally headed in the right direction?\""
   ]
  },
  {
   "cell_type": "code",
   "execution_count": null,
   "metadata": {
    "id": "Pkynb6b81Fao"
   },
   "outputs": [],
   "source": [
    "# Import NumPy.\n",
    "import numpy as np\n",
    "\n",
    "# Set a seed so we get the same results.\n",
    "np.random.seed(42)"
   ]
  },
  {
   "cell_type": "code",
   "execution_count": null,
   "metadata": {
    "id": "bAP15QwR1Fap"
   },
   "outputs": [],
   "source": [
    "# We are simulating a population of 1,000.\n",
    "# Each person has a 40% chance of saying\n",
    "# \"Yes, things are headed in the right direction.\"\n",
    "population= np.random.binomial(n = 1,\n",
    "                     p = 0.4,\n",
    "                     size= 1000)"
   ]
  },
  {
   "cell_type": "code",
   "execution_count": null,
   "metadata": {
    "colab": {
     "base_uri": "https://localhost:8080/"
    },
    "id": "Tac5FnQj1Faq",
    "outputId": "da563e92-e9f5-4db6-a663-4a3601e313c0"
   },
   "outputs": [
    {
     "data": {
      "text/plain": [
       "array([0, 1, 1, 0, 0, 0, 0, 1, 1, 1])"
      ]
     },
     "execution_count": 3,
     "metadata": {},
     "output_type": "execute_result"
    }
   ],
   "source": [
    "population[0:10]\n"
   ]
  },
  {
   "cell_type": "markdown",
   "metadata": {
    "id": "v57OTYJ61Faq"
   },
   "source": [
    "Above, we simulated a population of people where 40% of them think the country is headed in the right direction. \n",
    "\n",
    "**But your campaign doesn't know this. Your campaign wants to learn what the true value of $p$ is!**\n",
    "\n",
    "The problem is, you don't have enough money and time to call all 1,000 of them. You can only call 50."
   ]
  },
  {
   "cell_type": "code",
   "execution_count": null,
   "metadata": {
    "id": "9WeuSQJM1Faq"
   },
   "outputs": [],
   "source": [
    "sample = np.random.choice(population, size =50, replace= False)"
   ]
  },
  {
   "cell_type": "code",
   "execution_count": null,
   "metadata": {
    "colab": {
     "base_uri": "https://localhost:8080/"
    },
    "id": "l4iNTbjP1Far",
    "outputId": "6a258d4a-6278-48ed-d599-7308f42f1e07"
   },
   "outputs": [
    {
     "name": "stdout",
     "output_type": "stream",
     "text": [
      "0.38\n"
     ]
    },
    {
     "data": {
      "text/plain": [
       "array([0, 1, 1, 1, 0, 0, 1, 0, 0, 0, 1, 1, 0, 1, 1, 1, 0, 0, 1, 0, 0, 0,\n",
       "       0, 1, 0, 0, 0, 1, 0, 0, 0, 0, 0, 1, 0, 0, 0, 0, 0, 0, 1, 1, 0, 1,\n",
       "       0, 0, 0, 1, 1, 1])"
      ]
     },
     "execution_count": 12,
     "metadata": {},
     "output_type": "execute_result"
    }
   ],
   "source": [
    "print(np.mean(sample))\n",
    "sample"
   ]
  },
  {
   "cell_type": "code",
   "execution_count": null,
   "metadata": {
    "id": "rhw0H6w11Far"
   },
   "outputs": [],
   "source": [
    "  sample2 = np.random.choice(population, size =50, replace= False)"
   ]
  },
  {
   "cell_type": "code",
   "execution_count": null,
   "metadata": {
    "colab": {
     "base_uri": "https://localhost:8080/"
    },
    "id": "FIhcSkrL1Far",
    "outputId": "30545d69-ab18-4034-bc89-bf38a362275a"
   },
   "outputs": [
    {
     "data": {
      "text/plain": [
       "0.44"
      ]
     },
     "execution_count": 7,
     "metadata": {},
     "output_type": "execute_result"
    }
   ],
   "source": [
    "np.mean(sample2)  "
   ]
  },
  {
   "cell_type": "code",
   "execution_count": null,
   "metadata": {
    "colab": {
     "base_uri": "https://localhost:8080/"
    },
    "id": "82R_jKoY1Fas",
    "outputId": "c3862cdf-2806-4e06-b154-4a95145cb5c2"
   },
   "outputs": [
    {
     "data": {
      "text/plain": [
       "0.38"
      ]
     },
     "execution_count": 8,
     "metadata": {},
     "output_type": "execute_result"
    }
   ],
   "source": [
    "  sample3 = np.random.choice(population, size =50, replace= False)\n",
    "  np.mean(sample3)"
   ]
  },
  {
   "cell_type": "code",
   "execution_count": null,
   "metadata": {
    "colab": {
     "base_uri": "https://localhost:8080/"
    },
    "id": "gwMSPAYU1Fas",
    "outputId": "69bcbfcd-583c-48c1-c7a6-7900c2231b81"
   },
   "outputs": [
    {
     "data": {
      "text/plain": [
       "0.42"
      ]
     },
     "execution_count": 31,
     "metadata": {},
     "output_type": "execute_result"
    }
   ],
   "source": [
    "sample5 = np.random.choice(population,\n",
    "                            size = 50,\n",
    "                            replace = False)\n",
    "np.mean(sample5)"
   ]
  },
  {
   "cell_type": "code",
   "execution_count": null,
   "metadata": {
    "colab": {
     "base_uri": "https://localhost:8080/"
    },
    "id": "QJKaMIQdIw1P",
    "outputId": "ca067cc4-7d7f-419c-d3e2-dce0fab38d44"
   },
   "outputs": [
    {
     "data": {
      "text/plain": [
       "0.32"
      ]
     },
     "execution_count": 10,
     "metadata": {},
     "output_type": "execute_result"
    }
   ],
   "source": [
    "sample_6 = np.random.choice(population,\n",
    "                            size = 50,\n",
    "                            replace = False)\n",
    "np.mean(sample_6)"
   ]
  },
  {
   "cell_type": "markdown",
   "metadata": {
    "id": "Hvsn2Qry1Fas"
   },
   "source": [
    "#### Even if we randomly sample, we aren't guaranteed to get a good sample!\n",
    "\n",
    "<details><summary>How do we get around this?</summary>\n",
    "    \n",
    "![](./images/halo.gif)\n",
    "### By switching to our grenade launcher.\n",
    "</details>\n",
    "\n",
    "When a poll is reported, you likely see something like this:\n",
    "\n",
    "![](./images/polling.png)\n",
    "\n",
    "In the upper-right corner, you can see \"$\\text{margin of error }\\pm\\text{ }3.1$\". \n",
    "\n",
    "#### What is a margin of error?\n",
    "This means that it's pretty likely that these poll results are within \"plus 3.1%\" or \"minus 3.1%\" of the real value.\n",
    "\n",
    "#### Why is there a margin of error?\n",
    "We recognize that one sample of 50 people can't definitively speak for all registered voters! If I had taken a different sample of 50 people, then my results might be pretty different. We hope not, but it's entirely possible.\n",
    "\n",
    "The margin of error is a way for us to describe our uncertainty in our statistic based on how much our statistic changes from one sample to another sample.\n",
    "- Realistically, we only pull one sample of size $n$ out of all possible samples of size $n$.\n",
    "- We only see one sample percentage out of all possible statistics.\n",
    "- We won't ever actually **see** the sample-to-sample variability!\n",
    "    - This makes sense, right? It doesn't make sense for me to take ten samples of size 50... instead, I would just take one sample of 500!\n",
    "    \n",
    "#### If we don't ever actually observe how much our statistic changes from one sample to another sample, then how can we get a margin of error?\n",
    "\n",
    "There are two ways to do this:\n",
    "- We can get theory to do it. (i.e. relying on statistics and probability theory)\n",
    "- We can estimate it empirically from our existing data."
   ]
  },
  {
   "cell_type": "markdown",
   "metadata": {
    "id": "4pmmoH5I1Fat"
   },
   "source": [
    "## Confidence Interval Based on Theory\n",
    "\n",
    "By quantifying the margin of error, we can construct what is known as a **confidence interval**.\n",
    "\n",
    "A confidence interval is a set of likely values for the parameter of interest.\n",
    "\n",
    "--- \n",
    "\n",
    "<details><summary>If I could theoretically plot all possible sample percentages and how frequently I see each sample percentage... what is this?</summary>\n",
    "\n",
    "- This is the distribution of all sample percentages!\n",
    "- This is known as the **sampling distribution**.\n",
    "</details>\n",
    "\n",
    "Luckily, there is a theoretical result about this exact thing!\n",
    "\n",
    "### The Central Limit Theorem\n",
    "The Central Limit Theorem is the most important theorem in all of statistics. It states:\n",
    "\n",
    "As the size of our sample $n$ gets closer and closer to infinity, our sampling distribution (the distribution of all possible sample means) approaches a Normal distribution with mean $\\mu$ and standard deviation $\\frac{\\sigma}{\\sqrt{n}}$.\n",
    "\n",
    "**In English**: This means that if I take a sample of size $n$ and find the mean of that sample, then do it for all possible samples of size $n$, this distribution of sample means should be Normally distributed as long as $n$ is big enough.\n",
    "\n",
    "**Practically**: If I want to study the sample mean (or the sample percentage), I can use the Normal distribution to generate a confidence interval, as long as the size of our sample $n$ is large enough!"
   ]
  },
  {
   "cell_type": "markdown",
   "metadata": {
    "id": "4xvmO2Gi1Fat"
   },
   "source": [
    "### Confidence Interval Formula\n",
    "\n",
    "The formula for a confidence interval is:\n",
    "\n",
    "$$\n",
    "\\text{[sample statistic]} \\pm \\text{[multiplier]} \\times \\text{[standard deviation of sampling distribution]}\n",
    "$$\n",
    "\n",
    "- The **sample statistic** is the statistic of our sample!\n",
    "- The **standard deviation of the sampling distribution** quantifies that sample-to-sample variability for us. (This is commonly called the [standard error](https://stattrek.com/estimation/standard-error.aspx).)\n",
    "- The **multiplier** is a number drawn from the Normal distribution that makes sure our confidence interval is appropriately wide given how confident we want to be in our result.\n",
    "    - The **margin of error** is the multiplier times the standard deviation of the sampling distribution.\n",
    "\n",
    "*Extra:* To learn about the derivation of the confidence interval for a given confidence level, [head here](http://dsearls.org/courses/M120Concepts/ClassNotes/Statistics/530G_Derivation.htm).\n",
    "\n",
    "--- \n",
    "\n",
    "Example: I want to find the 95% confidence interval for the percentage of people who think the nation is on the right track.\n",
    "\n",
    "The formula is:\n",
    "\n",
    "$$\n",
    "\\begin{eqnarray*}\n",
    "\\text{[sample statistic] } &\\pm& \\text{[multiplier] } \\times \\text{[standard deviation of sampling distribution]} \\\\\n",
    "\\bar{x} &\\pm& z^* \\times \\frac{\\sigma}{\\sqrt{n}} \\\\\n",
    "\\Rightarrow \\bar{x} &\\pm& 1.96 \\times \\frac{\\sigma}{\\sqrt{n}}\n",
    "\\end{eqnarray*}\n",
    "$$"
   ]
  },
  {
   "cell_type": "code",
   "execution_count": null,
   "metadata": {
    "id": "FGNxxlMP1Fat"
   },
   "outputs": [],
   "source": [
    "sample_mean = np.mean(sample)\n",
    "sigma= np.std(sample)\n",
    "n = len(sample) #50"
   ]
  },
  {
   "cell_type": "code",
   "execution_count": null,
   "metadata": {
    "colab": {
     "base_uri": "https://localhost:8080/"
    },
    "id": "Rm_MBNbz1Fat",
    "outputId": "3df472a7-cbbd-47a6-b9e8-8c76402ebe37"
   },
   "outputs": [
    {
     "data": {
      "text/plain": [
       "0.5145422580455672"
      ]
     },
     "execution_count": 16,
     "metadata": {},
     "output_type": "execute_result"
    }
   ],
   "source": [
    "#sample_mean + 1.96 * sigma/np.sqrt(n)\n",
    "sample_mean + 1.96 * sigma/(n ** 0.5)"
   ]
  },
  {
   "cell_type": "code",
   "execution_count": null,
   "metadata": {
    "colab": {
     "base_uri": "https://localhost:8080/"
    },
    "id": "U-4WX-tQ1Fau",
    "outputId": "0533aa98-e057-4ef8-9961-baa08ba7eff0"
   },
   "outputs": [
    {
     "data": {
      "text/plain": [
       "0.2454577419544328"
      ]
     },
     "execution_count": 17,
     "metadata": {},
     "output_type": "execute_result"
    }
   ],
   "source": [
    "sample_mean - 1.96 * sigma/(n ** 0.5)"
   ]
  },
  {
   "cell_type": "code",
   "execution_count": null,
   "metadata": {
    "id": "3ExsKJXt1Fau"
   },
   "outputs": [],
   "source": [
    "all_yes = np.ones(50)\n"
   ]
  },
  {
   "cell_type": "code",
   "execution_count": null,
   "metadata": {
    "id": "MAjNFpPDNj9o"
   },
   "outputs": [],
   "source": [
    "sample_mean = np.mean(all_yes)\n",
    "sigma= np.std(all_yes)\n",
    "n = len(all_yes) #50"
   ]
  },
  {
   "cell_type": "code",
   "execution_count": null,
   "metadata": {
    "colab": {
     "base_uri": "https://localhost:8080/"
    },
    "id": "-QxiO52ONnbG",
    "outputId": "62c1abc1-86d6-4a0c-8669-26ff2c8651c5"
   },
   "outputs": [
    {
     "data": {
      "text/plain": [
       "1.0"
      ]
     },
     "execution_count": 21,
     "metadata": {},
     "output_type": "execute_result"
    }
   ],
   "source": [
    "sample_mean + 1.96 * sigma/(n ** 0.5)"
   ]
  },
  {
   "cell_type": "code",
   "execution_count": null,
   "metadata": {
    "colab": {
     "base_uri": "https://localhost:8080/"
    },
    "id": "8fL-CpFmNpHD",
    "outputId": "476388f6-f269-49ab-b6cc-0faff3352965"
   },
   "outputs": [
    {
     "data": {
      "text/plain": [
       "1.0"
      ]
     },
     "execution_count": 22,
     "metadata": {},
     "output_type": "execute_result"
    }
   ],
   "source": [
    "sample_mean - 1.96 * sigma/(n ** 0.5)"
   ]
  },
  {
   "cell_type": "markdown",
   "metadata": {
    "id": "2WerMxPj1Fau"
   },
   "source": [
    "Our 95% confidence interval for the percentage of people who think our country is on the right track is **(24.55%, 51.45%)**.\n",
    "\n",
    "#### Interpretation (*this will come up in interviews*)\n",
    "\n",
    "We interpret the 95% confidence interval interval by saying **\"I am 95% confident that the true population percentage of people who think our country is on the right track is 24.55% to 51.45%.\"**\n",
    "- Generally, we would say:\n",
    "    - \"I am {confidence level}% confident \n",
    "    - that the true population {parameter} \n",
    "    - is between {lower confidence bound} and {upper confidence bound}.\"\n",
    "\n",
    "---\n",
    "\n",
    "Write a function called `conf_int()` to take in an array of data and return a 95% confidence interval. Run your function on `sample_2` and interpret your results."
   ]
  },
  {
   "cell_type": "code",
   "execution_count": null,
   "metadata": {
    "id": "Tn0N4xPp1Fav"
   },
   "outputs": [],
   "source": [
    "def conf_int(data):\n",
    "  sample_mean = np.mean(data)\n",
    "  sigma= np.std(data)\n",
    "  n = len(data)\n",
    "  upper = sample_mean + 1.96 * sigma/(n ** 0.5)\n",
    "  lower = sample_mean - 1.96 * sigma/(n ** 0.5)\n",
    "  return  lower, upper"
   ]
  },
  {
   "cell_type": "code",
   "execution_count": null,
   "metadata": {
    "colab": {
     "base_uri": "https://localhost:8080/"
    },
    "id": "aMoqax1n1Fav",
    "outputId": "ec99e3f5-c95f-4fd0-c71e-96bc4b10f354"
   },
   "outputs": [
    {
     "name": "stdout",
     "output_type": "stream",
     "text": [
      "(0.2454577419544328, 0.5145422580455672)\n",
      "(0.30240855840569153, 0.5775914415943084)\n",
      "(0.28319256160573725, 0.5568074383942627)\n"
     ]
    }
   ],
   "source": [
    "print(conf_int(sample))\n",
    "print(conf_int(sample2))\n",
    "print(conf_int(sample5))"
   ]
  },
  {
   "cell_type": "code",
   "execution_count": null,
   "metadata": {
    "id": "bOR54VASQflB"
   },
   "outputs": [],
   "source": [
    "larger_pop = np.random.choice(population, size= 500, replace= False)"
   ]
  },
  {
   "cell_type": "code",
   "execution_count": null,
   "metadata": {
    "colab": {
     "base_uri": "https://localhost:8080/"
    },
    "id": "UFXcEYP1Qa3w",
    "outputId": "07e56bd1-597c-4acd-bff4-6ec64d30ba87"
   },
   "outputs": [
    {
     "data": {
      "text/plain": [
       "(0.32963352208172125, 0.41436647791827874)"
      ]
     },
     "execution_count": 39,
     "metadata": {},
     "output_type": "execute_result"
    }
   ],
   "source": [
    "conf_int(larger_pop)"
   ]
  },
  {
   "cell_type": "markdown",
   "metadata": {
    "id": "lbOXCu4S1Fav"
   },
   "source": [
    "<details><summary>Interpretation:</summary>\"I am 95% confident that the true population percentage of people who believe our country is on the right track is between 30.24% and 57.76 percent.\"</details>\n",
    "\n",
    "---\n",
    "\n",
    "Note: For a confidence interval, our multiplier is 1.96. The number 1.96 comes from a standard Normal distribution.\n",
    "- The area under the standard Normal distribution between -1.96 and +1.96 is 95%.\n",
    "- For 90% confidence, use 1.645.\n",
    "- For 99% confidence, use 2.576.\n",
    "\n",
    "#### This seems straightforward enough... why don't we always just \"use theory?\"\n",
    "- The \"standard deviation of the statistic\" formula is easy when we're generating confidence intervals for one mean or one percentage.\n",
    "- That formula gets more complicated if we want to calculate a confidence interval for a correlation coefficient, for the difference between two means, or for something else.\n",
    "- Also, the Central Limit Theorem above describes how sample means work. Relying on the Normal distribution is tough when our sample size $n$ is small (below 30) or when we're calculating something other than basic means and percentages."
   ]
  },
  {
   "cell_type": "markdown",
   "metadata": {
    "id": "M-4Tb1MK1Fav"
   },
   "source": [
    "# To sum up:\n",
    "- Our goal is usually to learn about a population.\n",
    "- Oftentimes, money, time, energy, and other constraints prevent us from measuring the entire population directly.\n",
    "- We take a sample from this population and calculate a statistic on our sample.\n",
    "- We want to use this sample statistic to understand our population parameter!\n",
    "- By just calculating a statistic, we're effectively using our sniper rifle. Instead, we want a grenade launcher!\n",
    "- The statistical equivalent of a grenade launcher is a **confidence interval**. A confidence interval is a set of likely values for the parameter of interest.\n",
    "- In order to construct our confidence interval, we use our sample statistic and attach a margin of error to it. We can then quantify how confident we are that the true population parameter is inside the interval.\n",
    "- The formula for any confidence interval is given by $\\text{[sample statistic] } \\pm \\text{[multiplier] } \\times \\text{[standard deviation of sampling distribution]}$.\n",
    "- The formula for a 95% confidence interval for sample means or proportions is $\\bar{x} \\pm 1.96\\frac{\\sigma}{\\sqrt{n}}$.\n",
    "- I would interpret a 95% confidence interval $(a,b)$ as follows:\n",
    "    - \"I am 95% confident that the true population parameter is in between $a$ and $b$.\""
   ]
  },
  {
   "cell_type": "markdown",
   "metadata": {
    "id": "Cnb6XmeK1Fav"
   },
   "source": [
    "## BONUS: Margin of Error Based on our Data\n",
    "--- \n",
    "\n",
    "In the last section, we relied on the Central Limit Theorem to tell us what the sampling distribution would look like under certain conditions.\n",
    "\n",
    "In this section, we're just going to directly estimate a confidence interval by simulating our sampling distribution. This involves a process called **bootstrapping**.\n",
    "\n",
    "### Bootstrapping\n",
    "The idea behind bootstrapping is very simple.\n",
    "\n",
    "We can get the true sampling distribution if we got all possible samples of size $n$ from our population... but this isn't realistic.\n",
    "\n",
    "We can **simulate** the true sampling distribution by taking lots of samples of size $n$ from our **sample**.\n",
    "\n",
    "1. Take a sample of size $n$ from the population.\n",
    "2. Pretend like this sample of size $n$ is your actual population.\n",
    "3. Take many samples (say $k$) of size $n$ from your sample. You must take these samples with replacement, or you'll just be making copies of your sample!\n",
    "    - You have now generated $k$ **bootstrapped *samples***.\n",
    "4. On each bootstrapped sample, calculate the statistic of interest.\n",
    "    - You have now generated $k$ **bootstrapped *statistics***.\n",
    "\n",
    "If $k$ is large enough, then your simulated sampling distribution should look somewhat like the true theoretical sampling distribution!\n",
    "\n",
    "Example: Find a 95% bootstrapped confidence interval for the proportion of people who believe the country is headed in the right direction."
   ]
  },
  {
   "cell_type": "code",
   "execution_count": null,
   "metadata": {
    "id": "x2bASIiW1Fav"
   },
   "outputs": [],
   "source": [
    "boot_stats  = []\n",
    "\n",
    "for i in range(1,1000):\n",
    "  boot_sample = np.random.choice(sample, size = 50, replace = True)\n",
    "\n",
    "  #calculate the mean\n",
    "  boot_statisic = np.mean(boot_sample)\n",
    "\n",
    "  boot_stats.append(boot_statisic)\n"
   ]
  },
  {
   "cell_type": "code",
   "execution_count": null,
   "metadata": {
    "colab": {
     "base_uri": "https://localhost:8080/",
     "height": 499
    },
    "id": "dv1VpkkG1Faw",
    "outputId": "ba846bff-1016-432f-a79f-a75ea3d4d4fa"
   },
   "outputs": [
    {
     "data": {
      "text/plain": [
       "(array([ 13.,  42., 105., 188., 220., 193., 127.,  72.,  26.,  13.]),\n",
       " array([0.18 , 0.222, 0.264, 0.306, 0.348, 0.39 , 0.432, 0.474, 0.516,\n",
       "        0.558, 0.6  ]),\n",
       " <BarContainer object of 10 artists>)"
      ]
     },
     "execution_count": 42,
     "metadata": {},
     "output_type": "execute_result"
    },
    {
     "data": {
      "image/png": "[encoded data removed]",
      "text/plain": [
       "<Figure size 640x480 with 1 Axes>"
      ]
     },
     "metadata": {},
     "output_type": "display_data"
    }
   ],
   "source": [
    "import matplotlib.pyplot as plt\n",
    "\n",
    "plt.hist(boot_stats)"
   ]
  },
  {
   "cell_type": "markdown",
   "metadata": {
    "id": "JSjW0R_81Faw"
   },
   "source": [
    "Let's visualize the distribution of bootstrapped statistics and compare it to the theoretical sampling distribution."
   ]
  },
  {
   "cell_type": "code",
   "execution_count": null,
   "metadata": {
    "id": "vVnwwuHM1Faw"
   },
   "outputs": [],
   "source": []
  },
  {
   "cell_type": "code",
   "execution_count": null,
   "metadata": {
    "id": "CBN2lGZM1Faw"
   },
   "outputs": [],
   "source": []
  },
  {
   "cell_type": "markdown",
   "metadata": {
    "id": "Yx104G9k1Faw"
   },
   "source": [
    "Visually, the theoretical distribution looks almost identical to the bootstrapped distribution. Let's compare how different the 95% confidence intervals are."
   ]
  },
  {
   "cell_type": "code",
   "execution_count": null,
   "metadata": {
    "colab": {
     "base_uri": "https://localhost:8080/"
    },
    "id": "JkwB1lte1Faw",
    "outputId": "fd6ef9c2-c20d-4fff-8cdd-bf8bbe1df14e"
   },
   "outputs": [
    {
     "data": {
      "text/plain": [
       "0.24"
      ]
     },
     "execution_count": 44,
     "metadata": {},
     "output_type": "execute_result"
    }
   ],
   "source": [
    "np.percentile(boot_stats, 2.5)\n"
   ]
  },
  {
   "cell_type": "code",
   "execution_count": null,
   "metadata": {
    "colab": {
     "base_uri": "https://localhost:8080/"
    },
    "id": "BIDXrsfU1Fax",
    "outputId": "4c3a13ba-1c96-4efe-e2fb-abfd5b5dde4a"
   },
   "outputs": [
    {
     "data": {
      "text/plain": [
       "0.52"
      ]
     },
     "execution_count": 43,
     "metadata": {},
     "output_type": "execute_result"
    }
   ],
   "source": [
    "np.percentile(boot_stats,97.5)\n"
   ]
  },
  {
   "cell_type": "markdown",
   "metadata": {
    "id": "wcouSIDZ1Fax"
   },
   "source": [
    "The bootstrapped 95% confidence interval is (0.2595, 0.52).\n",
    "\n",
    "<details><summary>Interpretation (we interpret it in the same way!)</summary>\n",
    "We are 95% confident that the true population percentage of people who believe the country is headed in the right direction is 25.95% to 52%.\n",
    "</details>"
   ]
  },
  {
   "cell_type": "code",
   "execution_count": null,
   "metadata": {
    "id": "Zd6v-Wfp1Fax"
   },
   "outputs": [],
   "source": [
    "\n"
   ]
  },
  {
   "cell_type": "markdown",
   "metadata": {
    "id": "2dH1H2NO1Fax"
   },
   "source": [
    "The bootstrapped 95% confidence interval is (0.2455, 0.5145).\n",
    "\n",
    "<details><summary>Interpretation</summary>\n",
    "We are 95% confident that the true population percentage of people who believe the country is headed in the right direction is 24.55% to 51.45%.\n",
    "</details>"
   ]
  },
  {
   "cell_type": "code",
   "execution_count": null,
   "metadata": {
    "id": "aECkn-viRLBZ"
   },
   "outputs": [],
   "source": []
  }
 ],
 "metadata": {
  "colab": {
   "provenance": []
  },
  "kernelspec": {
   "display_name": "Python 3 (ipykernel)",
   "language": "python",
   "name": "python3"
  },
  "language_info": {
   "codemirror_mode": {
    "name": "ipython",
    "version": 3
   },
   "file_extension": ".py",
   "mimetype": "text/x-python",
   "name": "python",
   "nbconvert_exporter": "python",
   "pygments_lexer": "ipython3",
   "version": "3.10.9"
  }
 },
 "nbformat": 4,
 "nbformat_minor": 1
}
